{
  "nbformat": 4,
  "nbformat_minor": 0,
  "metadata": {
    "accelerator": "GPU",
    "colab": {
      "name": "PyTorch CNN - CIFAR10.ipynb",
      "provenance": [],
      "authorship_tag": "ABX9TyMcxvLBOSWCsbKWD1S89jN7",
      "include_colab_link": true
    },
    "kernelspec": {
      "display_name": "Python 3",
      "name": "python3"
    },
    "widgets": {
      "application/vnd.jupyter.widget-state+json": {
        "1e278c119fa748e2b8aa3acdebb1eb95": {
          "model_module": "@jupyter-widgets/controls",
          "model_name": "HBoxModel",
          "state": {
            "_view_name": "HBoxView",
            "_dom_classes": [],
            "_model_name": "HBoxModel",
            "_view_module": "@jupyter-widgets/controls",
            "_model_module_version": "1.5.0",
            "_view_count": null,
            "_view_module_version": "1.5.0",
            "box_style": "",
            "layout": "IPY_MODEL_5a17d038a568454785ac3a40878d4366",
            "_model_module": "@jupyter-widgets/controls",
            "children": [
              "IPY_MODEL_b5422310bca34f69b01b8f285ce73b52",
              "IPY_MODEL_d39be4e670084adcb0c283732a147231"
            ]
          }
        },
        "5a17d038a568454785ac3a40878d4366": {
          "model_module": "@jupyter-widgets/base",
          "model_name": "LayoutModel",
          "state": {
            "_view_name": "LayoutView",
            "grid_template_rows": null,
            "right": null,
            "justify_content": null,
            "_view_module": "@jupyter-widgets/base",
            "overflow": null,
            "_model_module_version": "1.2.0",
            "_view_count": null,
            "flex_flow": null,
            "width": null,
            "min_width": null,
            "border": null,
            "align_items": null,
            "bottom": null,
            "_model_module": "@jupyter-widgets/base",
            "top": null,
            "grid_column": null,
            "overflow_y": null,
            "overflow_x": null,
            "grid_auto_flow": null,
            "grid_area": null,
            "grid_template_columns": null,
            "flex": null,
            "_model_name": "LayoutModel",
            "justify_items": null,
            "grid_row": null,
            "max_height": null,
            "align_content": null,
            "visibility": null,
            "align_self": null,
            "height": null,
            "min_height": null,
            "padding": null,
            "grid_auto_rows": null,
            "grid_gap": null,
            "max_width": null,
            "order": null,
            "_view_module_version": "1.2.0",
            "grid_template_areas": null,
            "object_position": null,
            "object_fit": null,
            "grid_auto_columns": null,
            "margin": null,
            "display": null,
            "left": null
          }
        },
        "b5422310bca34f69b01b8f285ce73b52": {
          "model_module": "@jupyter-widgets/controls",
          "model_name": "FloatProgressModel",
          "state": {
            "_view_name": "ProgressView",
            "style": "IPY_MODEL_8a65de138b3e4f999a8bd8c5befa9e88",
            "_dom_classes": [],
            "description": "",
            "_model_name": "FloatProgressModel",
            "bar_style": "success",
            "max": 1,
            "_view_module": "@jupyter-widgets/controls",
            "_model_module_version": "1.5.0",
            "value": 1,
            "_view_count": null,
            "_view_module_version": "1.5.0",
            "orientation": "horizontal",
            "min": 0,
            "description_tooltip": null,
            "_model_module": "@jupyter-widgets/controls",
            "layout": "IPY_MODEL_ee44c31522d940d4b0f70809f4e4b0ce"
          }
        },
        "d39be4e670084adcb0c283732a147231": {
          "model_module": "@jupyter-widgets/controls",
          "model_name": "HTMLModel",
          "state": {
            "_view_name": "HTMLView",
            "style": "IPY_MODEL_2363d962487d4118986db369c72a23b6",
            "_dom_classes": [],
            "description": "",
            "_model_name": "HTMLModel",
            "placeholder": "​",
            "_view_module": "@jupyter-widgets/controls",
            "_model_module_version": "1.5.0",
            "value": " 170500096/? [00:05&lt;00:00, 31642764.68it/s]",
            "_view_count": null,
            "_view_module_version": "1.5.0",
            "description_tooltip": null,
            "_model_module": "@jupyter-widgets/controls",
            "layout": "IPY_MODEL_ca3a3fac93d342ac982c7cb9f405ca8c"
          }
        },
        "8a65de138b3e4f999a8bd8c5befa9e88": {
          "model_module": "@jupyter-widgets/controls",
          "model_name": "ProgressStyleModel",
          "state": {
            "_view_name": "StyleView",
            "_model_name": "ProgressStyleModel",
            "description_width": "initial",
            "_view_module": "@jupyter-widgets/base",
            "_model_module_version": "1.5.0",
            "_view_count": null,
            "_view_module_version": "1.2.0",
            "bar_color": null,
            "_model_module": "@jupyter-widgets/controls"
          }
        },
        "ee44c31522d940d4b0f70809f4e4b0ce": {
          "model_module": "@jupyter-widgets/base",
          "model_name": "LayoutModel",
          "state": {
            "_view_name": "LayoutView",
            "grid_template_rows": null,
            "right": null,
            "justify_content": null,
            "_view_module": "@jupyter-widgets/base",
            "overflow": null,
            "_model_module_version": "1.2.0",
            "_view_count": null,
            "flex_flow": null,
            "width": null,
            "min_width": null,
            "border": null,
            "align_items": null,
            "bottom": null,
            "_model_module": "@jupyter-widgets/base",
            "top": null,
            "grid_column": null,
            "overflow_y": null,
            "overflow_x": null,
            "grid_auto_flow": null,
            "grid_area": null,
            "grid_template_columns": null,
            "flex": null,
            "_model_name": "LayoutModel",
            "justify_items": null,
            "grid_row": null,
            "max_height": null,
            "align_content": null,
            "visibility": null,
            "align_self": null,
            "height": null,
            "min_height": null,
            "padding": null,
            "grid_auto_rows": null,
            "grid_gap": null,
            "max_width": null,
            "order": null,
            "_view_module_version": "1.2.0",
            "grid_template_areas": null,
            "object_position": null,
            "object_fit": null,
            "grid_auto_columns": null,
            "margin": null,
            "display": null,
            "left": null
          }
        },
        "2363d962487d4118986db369c72a23b6": {
          "model_module": "@jupyter-widgets/controls",
          "model_name": "DescriptionStyleModel",
          "state": {
            "_view_name": "StyleView",
            "_model_name": "DescriptionStyleModel",
            "description_width": "",
            "_view_module": "@jupyter-widgets/base",
            "_model_module_version": "1.5.0",
            "_view_count": null,
            "_view_module_version": "1.2.0",
            "_model_module": "@jupyter-widgets/controls"
          }
        },
        "ca3a3fac93d342ac982c7cb9f405ca8c": {
          "model_module": "@jupyter-widgets/base",
          "model_name": "LayoutModel",
          "state": {
            "_view_name": "LayoutView",
            "grid_template_rows": null,
            "right": null,
            "justify_content": null,
            "_view_module": "@jupyter-widgets/base",
            "overflow": null,
            "_model_module_version": "1.2.0",
            "_view_count": null,
            "flex_flow": null,
            "width": null,
            "min_width": null,
            "border": null,
            "align_items": null,
            "bottom": null,
            "_model_module": "@jupyter-widgets/base",
            "top": null,
            "grid_column": null,
            "overflow_y": null,
            "overflow_x": null,
            "grid_auto_flow": null,
            "grid_area": null,
            "grid_template_columns": null,
            "flex": null,
            "_model_name": "LayoutModel",
            "justify_items": null,
            "grid_row": null,
            "max_height": null,
            "align_content": null,
            "visibility": null,
            "align_self": null,
            "height": null,
            "min_height": null,
            "padding": null,
            "grid_auto_rows": null,
            "grid_gap": null,
            "max_width": null,
            "order": null,
            "_view_module_version": "1.2.0",
            "grid_template_areas": null,
            "object_position": null,
            "object_fit": null,
            "grid_auto_columns": null,
            "margin": null,
            "display": null,
            "left": null
          }
        }
      }
    }
  },
  "cells": [
    {
      "cell_type": "markdown",
      "metadata": {
        "id": "view-in-github",
        "colab_type": "text"
      },
      "source": [
        "<a href=\"https://colab.research.google.com/github/Kravty/MachineLearning/blob/main/PyTorch_CNN_CIFAR10.ipynb\" target=\"_parent\"><img src=\"https://colab.research.google.com/assets/colab-badge.svg\" alt=\"Open In Colab\"/></a>"
      ]
    },
    {
      "cell_type": "markdown",
      "metadata": {
        "id": "OHzkOaPMwSTJ"
      },
      "source": [
        "<h3> CNN model in PyTorch used for classification of CIFAR10 dataset (with data augumentation).\r\n",
        "<h3> Multiple convolutional layers are used (VGG alike) in order to obtain better accuracy.\r\n"
      ]
    },
    {
      "cell_type": "markdown",
      "metadata": {
        "id": "EfIazvJj3pyn"
      },
      "source": [
        "<h3> Import of libraries"
      ]
    },
    {
      "cell_type": "code",
      "metadata": {
        "id": "agX99EgD3Dze"
      },
      "source": [
        "import torch\r\n",
        "import torch.nn as nn\r\n",
        "import torch.nn.functional as F\r\n",
        "import torchvision\r\n",
        "import torchvision.transforms as transforms\r\n",
        "import numpy as np\r\n",
        "import matplotlib.pyplot as plt\r\n",
        "from datetime import datetime\r\n",
        "from sklearn.metrics import confusion_matrix\r\n",
        "import itertools"
      ],
      "execution_count": 1,
      "outputs": []
    },
    {
      "cell_type": "markdown",
      "metadata": {
        "id": "VzqXvejI3mov"
      },
      "source": [
        "<h3> Data preparation "
      ]
    },
    {
      "cell_type": "code",
      "metadata": {
        "colab": {
          "base_uri": "https://localhost:8080/",
          "height": 104,
          "referenced_widgets": [
            "1e278c119fa748e2b8aa3acdebb1eb95",
            "5a17d038a568454785ac3a40878d4366",
            "b5422310bca34f69b01b8f285ce73b52",
            "d39be4e670084adcb0c283732a147231",
            "8a65de138b3e4f999a8bd8c5befa9e88",
            "ee44c31522d940d4b0f70809f4e4b0ce",
            "2363d962487d4118986db369c72a23b6",
            "ca3a3fac93d342ac982c7cb9f405ca8c"
          ]
        },
        "id": "qd5xxOJo3jIp",
        "outputId": "2d6b40a8-6e9e-417a-a8f3-c5c2a13fc4b7"
      },
      "source": [
        "# Data augmentation - manipulating training data to get more input data for the model\r\n",
        "transformer_train = torchvision.transforms.Compose([\r\n",
        "  transforms.RandomCrop(32, padding=4),\r\n",
        "  torchvision.transforms.RandomHorizontalFlip(p=0.5),\r\n",
        "  torchvision.transforms.RandomAffine(0, translate=(0.1, 0.1)),\r\n",
        "  transforms.ToTensor(), \r\n",
        "])\r\n",
        "\r\n",
        "train_dataset = torchvision.datasets.CIFAR10(\r\n",
        "    root='.',\r\n",
        "    train=True,\r\n",
        "    transform=transformer_train,\r\n",
        "    download=True)\r\n",
        "test_dataset = torchvision.datasets.CIFAR10(\r\n",
        "    root='.',\r\n",
        "    train=False,\r\n",
        "    transform=transforms.ToTensor(),\r\n",
        "    download=True)"
      ],
      "execution_count": 2,
      "outputs": [
        {
          "output_type": "stream",
          "text": [
            "Downloading https://www.cs.toronto.edu/~kriz/cifar-10-python.tar.gz to ./cifar-10-python.tar.gz\n"
          ],
          "name": "stdout"
        },
        {
          "output_type": "display_data",
          "data": {
            "application/vnd.jupyter.widget-view+json": {
              "model_id": "1e278c119fa748e2b8aa3acdebb1eb95",
              "version_minor": 0,
              "version_major": 2
            },
            "text/plain": [
              "HBox(children=(FloatProgress(value=1.0, bar_style='info', max=1.0), HTML(value='')))"
            ]
          },
          "metadata": {
            "tags": []
          }
        },
        {
          "output_type": "stream",
          "text": [
            "Extracting ./cifar-10-python.tar.gz to .\n",
            "Files already downloaded and verified\n"
          ],
          "name": "stdout"
        }
      ]
    },
    {
      "cell_type": "code",
      "metadata": {
        "colab": {
          "base_uri": "https://localhost:8080/"
        },
        "id": "UWFBBdn9I2g9",
        "outputId": "15064b81-4ada-4c7d-d9c9-6abb1dadb7a5"
      },
      "source": [
        "print(f\"Type of the train dataset data: {type(train_dataset.data)}\\n\")\r\n",
        "print(f\"Shape of the train dataset data: {train_dataset.data.shape}\")"
      ],
      "execution_count": 3,
      "outputs": [
        {
          "output_type": "stream",
          "text": [
            "Type of the train dataset data: <class 'numpy.ndarray'>\n",
            "\n",
            "Shape of the train dataset data: (50000, 32, 32, 3)\n"
          ],
          "name": "stdout"
        }
      ]
    },
    {
      "cell_type": "code",
      "metadata": {
        "colab": {
          "base_uri": "https://localhost:8080/"
        },
        "id": "_REyXdlUJ7LD",
        "outputId": "7774fccc-1cf7-4f1b-ba9d-104d2da67d96"
      },
      "source": [
        "print(f\"Type of the train dataset targets: {type(train_dataset.targets)}\\n\")\r\n",
        "K = len(set(train_dataset.targets))\r\n",
        "print(f\"Number of classes: {K}\")"
      ],
      "execution_count": 4,
      "outputs": [
        {
          "output_type": "stream",
          "text": [
            "Type of the train dataset targets: <class 'list'>\n",
            "\n",
            "Number of classes: 10\n"
          ],
          "name": "stdout"
        }
      ]
    },
    {
      "cell_type": "code",
      "metadata": {
        "id": "XT9-VekLLPQ5"
      },
      "source": [
        "# Label mapping\r\n",
        "labels = '''Airplane\r\n",
        "Automobile\r\n",
        "Bird\r\n",
        "Cat\r\n",
        "Deer\r\n",
        "Dog\r\n",
        "Frog\r\n",
        "Horse\r\n",
        "Ship\r\n",
        "Truck'''.split(\"\\n\")"
      ],
      "execution_count": 5,
      "outputs": []
    },
    {
      "cell_type": "code",
      "metadata": {
        "colab": {
          "base_uri": "https://localhost:8080/",
          "height": 299
        },
        "id": "vpFOc96kLXVz",
        "outputId": "ead4d748-73b2-4526-ea0d-937a6b95281c"
      },
      "source": [
        "index = np.random.randint(50000)\r\n",
        "plt.imshow(train_dataset.data[index])\r\n",
        "plt.title(f'Label: {labels[train_dataset.targets[index]]}')\r\n",
        "plt.show();"
      ],
      "execution_count": 6,
      "outputs": [
        {
          "output_type": "display_data",
          "data": {
            "image/png": "[encoded data removed]",
            "text/plain": [
              "<Figure size 432x288 with 1 Axes>"
            ]
          },
          "metadata": {
            "tags": [],
            "needs_background": "light"
          }
        },
        {
          "output_type": "stream",
          "text": [
            "\n"
          ],
          "name": "stdout"
        }
      ]
    },
    {
      "cell_type": "markdown",
      "metadata": {
        "id": "yxNmYj6sKwgE"
      },
      "source": [
        "<H3> Buidling the model"
      ]
    },
    {
      "cell_type": "code",
      "metadata": {
        "id": "MXB8Fbj2Kymy"
      },
      "source": [
        "class CNN(nn.Module):\r\n",
        "  def __init__(self, K):\r\n",
        "    super(CNN, self).__init__()\r\n",
        "\r\n",
        "    # Convolutional layers\r\n",
        "    self.conv1 = nn.Sequential(\r\n",
        "        nn.Conv2d(3, 32, kernel_size=3, padding=1),\r\n",
        "        nn.ReLU(),\r\n",
        "        nn.BatchNorm2d(32),\r\n",
        "        nn.Conv2d(32, 32, kernel_size=3, padding=1),\r\n",
        "        nn.ReLU(),\r\n",
        "        nn.BatchNorm2d(32),\r\n",
        "        nn.MaxPool2d(2)\r\n",
        "    )\r\n",
        "\r\n",
        "    self.conv2 = nn.Sequential(\r\n",
        "        nn.Conv2d(32, 64, kernel_size=3, padding=1),\r\n",
        "        nn.ReLU(),\r\n",
        "        nn.BatchNorm2d(64),\r\n",
        "        nn.Conv2d(64, 64, kernel_size=3, padding=1),\r\n",
        "        nn.ReLU(),\r\n",
        "        nn.BatchNorm2d(64),\r\n",
        "        nn.MaxPool2d(2)\r\n",
        "    )\r\n",
        "\r\n",
        "    self.conv3 = nn.Sequential(\r\n",
        "        nn.Conv2d(64, 128, kernel_size=3, padding=1),\r\n",
        "        nn.ReLU(),\r\n",
        "        nn.BatchNorm2d(128),\r\n",
        "        nn.Conv2d(128, 128, kernel_size=3, padding=1),\r\n",
        "        nn.ReLU(),\r\n",
        "        nn.BatchNorm2d(128),\r\n",
        "        nn.MaxPool2d(2)\r\n",
        "    )\r\n",
        "    \r\n",
        "    # Dense layers\r\n",
        "    self.d1 = nn.Linear(128 * 4 * 4, 1024)\r\n",
        "    self.d2 = nn.Linear(1024, K)\r\n",
        "    \r\n",
        "  def forward(self, x):\r\n",
        "    x = self.conv1(x)\r\n",
        "    x = self.conv2(x)\r\n",
        "    x = self.conv3(x)\r\n",
        "    x = x.view(x.size(0), -1)\r\n",
        "    x = F.dropout(x, p=0.5)\r\n",
        "    x = F.relu(self.d1(x))\r\n",
        "    x = F.dropout(x, p=0.2)\r\n",
        "    x = self.d2(x)\r\n",
        "    return x"
      ],
      "execution_count": 7,
      "outputs": []
    },
    {
      "cell_type": "code",
      "metadata": {
        "id": "J6c-IN1tYwpk"
      },
      "source": [
        "# Instantiate the model\r\n",
        "model = CNN(K)"
      ],
      "execution_count": 8,
      "outputs": []
    },
    {
      "cell_type": "code",
      "metadata": {
        "colab": {
          "base_uri": "https://localhost:8080/"
        },
        "id": "VtFMpRm-Yy-G",
        "outputId": "701ac8aa-500c-4e66-d3e5-33f02747fd8c"
      },
      "source": [
        "device = torch.device(\"cuda:0\" if torch.cuda.is_available() else \"cpu\")\r\n",
        "print(device)\r\n",
        "model.to(device)"
      ],
      "execution_count": 9,
      "outputs": [
        {
          "output_type": "stream",
          "text": [
            "cuda:0\n"
          ],
          "name": "stdout"
        },
        {
          "output_type": "execute_result",
          "data": {
            "text/plain": [
              "CNN(\n",
              "  (conv1): Sequential(\n",
              "    (0): Conv2d(3, 32, kernel_size=(3, 3), stride=(1, 1), padding=(1, 1))\n",
              "    (1): ReLU()\n",
              "    (2): BatchNorm2d(32, eps=1e-05, momentum=0.1, affine=True, track_running_stats=True)\n",
              "    (3): Conv2d(32, 32, kernel_size=(3, 3), stride=(1, 1), padding=(1, 1))\n",
              "    (4): ReLU()\n",
              "    (5): BatchNorm2d(32, eps=1e-05, momentum=0.1, affine=True, track_running_stats=True)\n",
              "    (6): MaxPool2d(kernel_size=2, stride=2, padding=0, dilation=1, ceil_mode=False)\n",
              "  )\n",
              "  (conv2): Sequential(\n",
              "    (0): Conv2d(32, 64, kernel_size=(3, 3), stride=(1, 1), padding=(1, 1))\n",
              "    (1): ReLU()\n",
              "    (2): BatchNorm2d(64, eps=1e-05, momentum=0.1, affine=True, track_running_stats=True)\n",
              "    (3): Conv2d(64, 64, kernel_size=(3, 3), stride=(1, 1), padding=(1, 1))\n",
              "    (4): ReLU()\n",
              "    (5): BatchNorm2d(64, eps=1e-05, momentum=0.1, affine=True, track_running_stats=True)\n",
              "    (6): MaxPool2d(kernel_size=2, stride=2, padding=0, dilation=1, ceil_mode=False)\n",
              "  )\n",
              "  (conv3): Sequential(\n",
              "    (0): Conv2d(64, 128, kernel_size=(3, 3), stride=(1, 1), padding=(1, 1))\n",
              "    (1): ReLU()\n",
              "    (2): BatchNorm2d(128, eps=1e-05, momentum=0.1, affine=True, track_running_stats=True)\n",
              "    (3): Conv2d(128, 128, kernel_size=(3, 3), stride=(1, 1), padding=(1, 1))\n",
              "    (4): ReLU()\n",
              "    (5): BatchNorm2d(128, eps=1e-05, momentum=0.1, affine=True, track_running_stats=True)\n",
              "    (6): MaxPool2d(kernel_size=2, stride=2, padding=0, dilation=1, ceil_mode=False)\n",
              "  )\n",
              "  (d1): Linear(in_features=2048, out_features=1024, bias=True)\n",
              "  (d2): Linear(in_features=1024, out_features=10, bias=True)\n",
              ")"
            ]
          },
          "metadata": {
            "tags": []
          },
          "execution_count": 9
        }
      ]
    },
    {
      "cell_type": "code",
      "metadata": {
        "id": "oDiic2uPY2q0"
      },
      "source": [
        "# Loss and optimizer\r\n",
        "criterion = nn.CrossEntropyLoss()\r\n",
        "optimizer = torch.optim.Adam(model.parameters())"
      ],
      "execution_count": 10,
      "outputs": []
    },
    {
      "cell_type": "code",
      "metadata": {
        "id": "XzrCG4tvKofb"
      },
      "source": [
        "# Data loader - it generates batches in the training loop and shuffle\r\n",
        "batch_size = 128\r\n",
        "\r\n",
        "train_loader = torch.utils.data.DataLoader(dataset=train_dataset, \r\n",
        "                                           batch_size=batch_size, \r\n",
        "                                           shuffle=True)\r\n",
        "\r\n",
        "test_loader = torch.utils.data.DataLoader(dataset=test_dataset, \r\n",
        "                                          batch_size=batch_size, \r\n",
        "                                          shuffle=False)"
      ],
      "execution_count": 11,
      "outputs": []
    },
    {
      "cell_type": "markdown",
      "metadata": {
        "id": "GRBRYG8TY6s0"
      },
      "source": [
        "<h3> Training the model"
      ]
    },
    {
      "cell_type": "code",
      "metadata": {
        "id": "Wps-L2TkY8G7"
      },
      "source": [
        "# Training loop function\r\n",
        "def batch_gd(model, criterion, optimizer, train_loader, test_loader, epochs):\r\n",
        "  train_losses = np.zeros(epochs)\r\n",
        "  test_losses = np.zeros(epochs)\r\n",
        "\r\n",
        "  for it in range(epochs):\r\n",
        "    model.train()\r\n",
        "    t0 = datetime.now()\r\n",
        "    # Variable for storing train losses\r\n",
        "    train_loss = []\r\n",
        "    \r\n",
        "    for inputs, targets in train_loader:\r\n",
        "      # Moving the data to GPU\r\n",
        "      inputs, targets = inputs.to(device), targets.to(device)\r\n",
        "      \r\n",
        "      # Zero the gradients accumulated by PyTorch\r\n",
        "      optimizer.zero_grad()\r\n",
        "\r\n",
        "      # Forward pass\r\n",
        "      outputs = model(inputs)\r\n",
        "      loss = criterion(outputs, targets)\r\n",
        "        \r\n",
        "      # Backward and optimize\r\n",
        "      loss.backward()\r\n",
        "      optimizer.step()\r\n",
        "\r\n",
        "      # Appending the loss to list of losses per iteration/batch\r\n",
        "      train_loss.append(loss.item())\r\n",
        "\r\n",
        "    # Taking mean value of previous losses as loss per epoch\r\n",
        "    train_loss = np.mean(train_loss)\r\n",
        "    \r\n",
        "    model.eval()\r\n",
        "    \r\n",
        "\r\n",
        "    # Variable for storing test losses\r\n",
        "    test_loss = []\r\n",
        "    for inputs, targets in test_loader:\r\n",
        "      inputs, targets = inputs.to(device), targets.to(device)\r\n",
        "      outputs = model(inputs)\r\n",
        "      loss = criterion(outputs, targets)\r\n",
        "      test_loss.append(loss.item())\r\n",
        "    \r\n",
        "    test_loss = np.mean(test_loss)\r\n",
        "\r\n",
        "    # Saving the losses\r\n",
        "    train_losses[it] = train_loss\r\n",
        "    test_losses[it] = test_loss\r\n",
        "    \r\n",
        "    # Calculating learning time per epoch\r\n",
        "    dt = datetime.now() - t0\r\n",
        "    \r\n",
        "    print(f'Epoch {it+1}/{epochs}, Train Loss: {train_loss:.4f}, \\\r\n",
        "      Test Loss: {test_loss:.4f},  Duration: {dt}')\r\n",
        "  \r\n",
        "  return train_losses, test_losses"
      ],
      "execution_count": 12,
      "outputs": []
    },
    {
      "cell_type": "code",
      "metadata": {
        "colab": {
          "base_uri": "https://localhost:8080/"
        },
        "id": "S-pk4qPTZHE7",
        "outputId": "557be387-0cc6-4dc3-9ed7-976c80b8ef43"
      },
      "source": [
        "# Calling training function\r\n",
        "train_losses, test_losses = batch_gd(\r\n",
        "    model, criterion, optimizer, train_loader, test_loader, epochs=60)"
      ],
      "execution_count": 13,
      "outputs": [
        {
          "output_type": "stream",
          "text": [
            "Epoch 1/60, Train Loss: 1.4341,       Test Loss: 1.0648,  Duration: 0:00:25.681040\n",
            "Epoch 2/60, Train Loss: 0.9968,       Test Loss: 0.8455,  Duration: 0:00:26.293625\n",
            "Epoch 3/60, Train Loss: 0.8430,       Test Loss: 0.8788,  Duration: 0:00:26.211133\n",
            "Epoch 4/60, Train Loss: 0.7431,       Test Loss: 0.8753,  Duration: 0:00:26.258520\n",
            "Epoch 5/60, Train Loss: 0.6900,       Test Loss: 0.6730,  Duration: 0:00:25.739295\n",
            "Epoch 6/60, Train Loss: 0.6441,       Test Loss: 0.6646,  Duration: 0:00:26.678114\n",
            "Epoch 7/60, Train Loss: 0.6119,       Test Loss: 0.6137,  Duration: 0:00:26.558682\n",
            "Epoch 8/60, Train Loss: 0.5804,       Test Loss: 0.5785,  Duration: 0:00:25.450830\n",
            "Epoch 9/60, Train Loss: 0.5519,       Test Loss: 0.8091,  Duration: 0:00:25.602518\n",
            "Epoch 10/60, Train Loss: 0.5376,       Test Loss: 0.6108,  Duration: 0:00:25.860980\n",
            "Epoch 11/60, Train Loss: 0.5196,       Test Loss: 0.5647,  Duration: 0:00:25.694038\n",
            "Epoch 12/60, Train Loss: 0.5002,       Test Loss: 0.5598,  Duration: 0:00:26.504122\n",
            "Epoch 13/60, Train Loss: 0.4846,       Test Loss: 0.5222,  Duration: 0:00:25.937143\n",
            "Epoch 14/60, Train Loss: 0.4655,       Test Loss: 0.5184,  Duration: 0:00:26.371526\n",
            "Epoch 15/60, Train Loss: 0.4557,       Test Loss: 0.5789,  Duration: 0:00:25.651702\n",
            "Epoch 16/60, Train Loss: 0.4478,       Test Loss: 0.5332,  Duration: 0:00:25.850681\n",
            "Epoch 17/60, Train Loss: 0.4289,       Test Loss: 0.5014,  Duration: 0:00:25.706912\n",
            "Epoch 18/60, Train Loss: 0.4243,       Test Loss: 0.4587,  Duration: 0:00:25.537820\n",
            "Epoch 19/60, Train Loss: 0.4095,       Test Loss: 0.5573,  Duration: 0:00:25.323176\n",
            "Epoch 20/60, Train Loss: 0.4030,       Test Loss: 0.4851,  Duration: 0:00:25.818826\n",
            "Epoch 21/60, Train Loss: 0.3887,       Test Loss: 0.4863,  Duration: 0:00:25.471757\n",
            "Epoch 22/60, Train Loss: 0.3842,       Test Loss: 0.4908,  Duration: 0:00:26.492213\n",
            "Epoch 23/60, Train Loss: 0.3785,       Test Loss: 0.4808,  Duration: 0:00:26.142351\n",
            "Epoch 24/60, Train Loss: 0.3645,       Test Loss: 0.4743,  Duration: 0:00:26.419569\n",
            "Epoch 25/60, Train Loss: 0.3631,       Test Loss: 0.4379,  Duration: 0:00:26.227890\n",
            "Epoch 26/60, Train Loss: 0.3583,       Test Loss: 0.4388,  Duration: 0:00:25.214493\n",
            "Epoch 27/60, Train Loss: 0.3455,       Test Loss: 0.4366,  Duration: 0:00:26.845328\n",
            "Epoch 28/60, Train Loss: 0.3401,       Test Loss: 0.4366,  Duration: 0:00:26.186953\n",
            "Epoch 29/60, Train Loss: 0.3329,       Test Loss: 0.4293,  Duration: 0:00:25.449346\n",
            "Epoch 30/60, Train Loss: 0.3322,       Test Loss: 0.4196,  Duration: 0:00:25.811896\n",
            "Epoch 31/60, Train Loss: 0.3256,       Test Loss: 0.4252,  Duration: 0:00:25.720574\n",
            "Epoch 32/60, Train Loss: 0.3235,       Test Loss: 0.4212,  Duration: 0:00:25.794999\n",
            "Epoch 33/60, Train Loss: 0.3177,       Test Loss: 0.4385,  Duration: 0:00:26.131561\n",
            "Epoch 34/60, Train Loss: 0.3108,       Test Loss: 0.4237,  Duration: 0:00:25.739421\n",
            "Epoch 35/60, Train Loss: 0.3031,       Test Loss: 0.4550,  Duration: 0:00:25.307940\n",
            "Epoch 36/60, Train Loss: 0.2986,       Test Loss: 0.4055,  Duration: 0:00:26.014861\n",
            "Epoch 37/60, Train Loss: 0.2956,       Test Loss: 0.4195,  Duration: 0:00:26.067505\n",
            "Epoch 38/60, Train Loss: 0.2886,       Test Loss: 0.4295,  Duration: 0:00:26.325698\n",
            "Epoch 39/60, Train Loss: 0.2812,       Test Loss: 0.4152,  Duration: 0:00:25.447849\n",
            "Epoch 40/60, Train Loss: 0.2820,       Test Loss: 0.4449,  Duration: 0:00:26.246401\n",
            "Epoch 41/60, Train Loss: 0.2734,       Test Loss: 0.4231,  Duration: 0:00:26.350910\n",
            "Epoch 42/60, Train Loss: 0.2744,       Test Loss: 0.4117,  Duration: 0:00:25.421762\n",
            "Epoch 43/60, Train Loss: 0.2663,       Test Loss: 0.4204,  Duration: 0:00:25.325676\n",
            "Epoch 44/60, Train Loss: 0.2671,       Test Loss: 0.4141,  Duration: 0:00:25.425601\n",
            "Epoch 45/60, Train Loss: 0.2645,       Test Loss: 0.4091,  Duration: 0:00:25.600914\n",
            "Epoch 46/60, Train Loss: 0.2559,       Test Loss: 0.4505,  Duration: 0:00:24.943734\n",
            "Epoch 47/60, Train Loss: 0.2558,       Test Loss: 0.4272,  Duration: 0:00:25.839878\n",
            "Epoch 48/60, Train Loss: 0.2552,       Test Loss: 0.4010,  Duration: 0:00:26.058427\n",
            "Epoch 49/60, Train Loss: 0.2515,       Test Loss: 0.4006,  Duration: 0:00:26.369762\n",
            "Epoch 50/60, Train Loss: 0.2503,       Test Loss: 0.4229,  Duration: 0:00:25.806343\n",
            "Epoch 51/60, Train Loss: 0.2474,       Test Loss: 0.3964,  Duration: 0:00:25.672909\n",
            "Epoch 52/60, Train Loss: 0.2443,       Test Loss: 0.4217,  Duration: 0:00:25.459007\n",
            "Epoch 53/60, Train Loss: 0.2409,       Test Loss: 0.3898,  Duration: 0:00:26.689592\n",
            "Epoch 54/60, Train Loss: 0.2383,       Test Loss: 0.3943,  Duration: 0:00:25.354837\n",
            "Epoch 55/60, Train Loss: 0.2317,       Test Loss: 0.4030,  Duration: 0:00:25.506709\n",
            "Epoch 56/60, Train Loss: 0.2350,       Test Loss: 0.4105,  Duration: 0:00:25.923587\n",
            "Epoch 57/60, Train Loss: 0.2355,       Test Loss: 0.3974,  Duration: 0:00:25.595491\n",
            "Epoch 58/60, Train Loss: 0.2323,       Test Loss: 0.4030,  Duration: 0:00:25.762211\n",
            "Epoch 59/60, Train Loss: 0.2317,       Test Loss: 0.3971,  Duration: 0:00:25.036692\n",
            "Epoch 60/60, Train Loss: 0.2195,       Test Loss: 0.3909,  Duration: 0:00:26.241429\n"
          ],
          "name": "stdout"
        }
      ]
    },
    {
      "cell_type": "code",
      "metadata": {
        "colab": {
          "base_uri": "https://localhost:8080/",
          "height": 265
        },
        "id": "55Ek_bmcZIXL",
        "outputId": "9f8cbdf9-41dd-499b-c07a-790f1ea9e6ba"
      },
      "source": [
        "plt.plot(train_losses, label='Train losses')\r\n",
        "plt.plot(test_losses, label='Test losses')\r\n",
        "plt.legend()\r\n",
        "plt.show();"
      ],
      "execution_count": 14,
      "outputs": [
        {
          "output_type": "display_data",
          "data": {
            "image/png": "[encoded data removed]",
            "text/plain": [
              "<Figure size 432x288 with 1 Axes>"
            ]
          },
          "metadata": {
            "tags": [],
            "needs_background": "light"
          }
        }
      ]
    },
    {
      "cell_type": "code",
      "metadata": {
        "colab": {
          "base_uri": "https://localhost:8080/"
        },
        "id": "iE1dBAjiZXrr",
        "outputId": "08ae9803-cb6c-4719-9798-4de7a1d20e4e"
      },
      "source": [
        "# Calculating accuracy\r\n",
        "model.eval()\r\n",
        "\r\n",
        "# Variables for counting train accuracy\r\n",
        "n_correct = 0\r\n",
        "n_total = 0\r\n",
        "\r\n",
        "for inputs, targets in train_loader:\r\n",
        "  # Moving data to GPU\r\n",
        "  inputs, targets = inputs.to(device), targets.to(device)\r\n",
        "\r\n",
        "  # Forward pass\r\n",
        "  outputs = model(inputs)\r\n",
        "\r\n",
        "  # Get prediction\r\n",
        "  # torch.max returns both max and argmax\r\n",
        "  _, predictions = torch.max(outputs, 1)\r\n",
        "  \r\n",
        "  # Updating the counts\r\n",
        "  n_correct += (predictions == targets).sum().item()\r\n",
        "  n_total += targets.shape[0]\r\n",
        "\r\n",
        "train_acc = n_correct / n_total\r\n",
        "\r\n",
        "\r\n",
        "# Zero the variables for counting test accuracy\r\n",
        "n_correct = 0\r\n",
        "n_total = 0\r\n",
        "\r\n",
        "# Same loop for test data\r\n",
        "for inputs, targets in test_loader:\r\n",
        "  inputs, targets = inputs.to(device), targets.to(device)\r\n",
        "\r\n",
        "  outputs = model(inputs)\r\n",
        "\r\n",
        "  _, predictions = torch.max(outputs, 1)\r\n",
        "  \r\n",
        "  n_correct += (predictions == targets).sum().item()\r\n",
        "  n_total += targets.shape[0]\r\n",
        "\r\n",
        "test_acc = n_correct / n_total\r\n",
        "\r\n",
        "print(f\"Train acc: {train_acc:.4f}, Test acc: {test_acc:.4f}\")"
      ],
      "execution_count": 15,
      "outputs": [
        {
          "output_type": "stream",
          "text": [
            "Train acc: 0.9265, Test acc: 0.8807\n"
          ],
          "name": "stdout"
        }
      ]
    },
    {
      "cell_type": "code",
      "metadata": {
        "id": "ocD89OrVZfFE"
      },
      "source": [
        "# Confusion matrix function\r\n",
        "def plot_confusion_matrix(cm, classes,\r\n",
        "                          normalize=False,\r\n",
        "                          title='Confusion matrix',\r\n",
        "                          cmap=plt.cm.Blues):\r\n",
        "  \"\"\"\r\n",
        "  This function prints and plots the confusion matrix.\r\n",
        "  Normalization can be applied by setting `normalize=True`.\r\n",
        "  \"\"\"\r\n",
        "  if normalize:\r\n",
        "      cm = cm.astype('float') / cm.sum(axis=1)[:, np.newaxis]\r\n",
        "      print(\"Normalized confusion matrix\")\r\n",
        "  else:\r\n",
        "      print('Confusion matrix, without normalization')\r\n",
        "\r\n",
        "  plt.imshow(cm, interpolation='nearest', cmap=cmap)\r\n",
        "  plt.title(title)\r\n",
        "  plt.colorbar()\r\n",
        "  tick_marks = np.arange(len(classes))\r\n",
        "  plt.xticks(tick_marks, classes, rotation=45)\r\n",
        "  plt.yticks(tick_marks, classes)\r\n",
        "\r\n",
        "  fmt = '.2f' if normalize else 'd'\r\n",
        "  thresh = cm.max() / 2.\r\n",
        "  for i, j in itertools.product(range(cm.shape[0]), range(cm.shape[1])):\r\n",
        "      plt.text(j, i, format(cm[i, j], fmt),\r\n",
        "               horizontalalignment=\"center\",\r\n",
        "               color=\"white\" if cm[i, j] > thresh else \"black\")\r\n",
        "\r\n",
        "  plt.tight_layout()\r\n",
        "  plt.ylabel('True label')\r\n",
        "  plt.xlabel('Predicted label')\r\n",
        "  plt.show()"
      ],
      "execution_count": 16,
      "outputs": []
    },
    {
      "cell_type": "code",
      "metadata": {
        "colab": {
          "base_uri": "https://localhost:8080/",
          "height": 329
        },
        "id": "zMC4U5LTZh0U",
        "outputId": "fb453218-78ae-4e9e-8f44-f5689b8aed5a"
      },
      "source": [
        "# Getting all predictions in an array and plotting confusion matrix\r\n",
        "x_test = test_dataset.data\r\n",
        "y_test = np.array(test_dataset.targets)\r\n",
        "p_test = np.array([])\r\n",
        "\r\n",
        "for inputs, targets in test_loader:\r\n",
        "  # Moving data to GPU\r\n",
        "  inputs, targets = inputs.to(device), targets.to(device)\r\n",
        "\r\n",
        "  # Forward pass\r\n",
        "  outputs = model(inputs)\r\n",
        "\r\n",
        "  # Getting prediction\r\n",
        "  _, predictions = torch.max(outputs, 1)\r\n",
        "  \r\n",
        "  # Updating p_test\r\n",
        "  p_test = np.concatenate((p_test, predictions.cpu().numpy()))\r\n",
        "\r\n",
        "cm = confusion_matrix(y_test, p_test)\r\n",
        "plot_confusion_matrix(cm, list(range(10)))"
      ],
      "execution_count": 17,
      "outputs": [
        {
          "output_type": "stream",
          "text": [
            "Confusion matrix, without normalization\n"
          ],
          "name": "stdout"
        },
        {
          "output_type": "display_data",
          "data": {
            "image/png": "[encoded data removed]",
            "text/plain": [
              "<Figure size 432x288 with 2 Axes>"
            ]
          },
          "metadata": {
            "tags": [],
            "needs_background": "light"
          }
        }
      ]
    },
    {
      "cell_type": "code",
      "metadata": {
        "colab": {
          "base_uri": "https://localhost:8080/",
          "height": 281
        },
        "id": "1as6toc1ZnDz",
        "outputId": "a525b9ec-3e75-4982-a3b0-c97f0d3470ca"
      },
      "source": [
        "# Show some misclassified examples\r\n",
        "p_test = p_test.astype(np.uint8)\r\n",
        "misclassified_idx = np.where(p_test != y_test)[0]\r\n",
        "i = np.random.choice(misclassified_idx)\r\n",
        "plt.imshow(x_test[i].reshape(32, 32, 3))\r\n",
        "plt.title(f\"True label: {labels[y_test[i]]}, Predicted: {labels[p_test[i]]}\");"
      ],
      "execution_count": 19,
      "outputs": [
        {
          "output_type": "display_data",
          "data": {
            "image/png": "[encoded data removed]",
            "text/plain": [
              "<Figure size 432x288 with 1 Axes>"
            ]
          },
          "metadata": {
            "tags": [],
            "needs_background": "light"
          }
        }
      ]
    }
  ]
}