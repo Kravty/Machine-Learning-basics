{
  "nbformat": 4,
  "nbformat_minor": 0,
  "metadata": {
    "colab": {
      "name": "PyTorch Recommender - MovieLens 20M.ipynb",
      "provenance": [],
      "authorship_tag": "ABX9TyO9AwKbJQd09lXeLxhKa5uC",
      "include_colab_link": true
    },
    "kernelspec": {
      "name": "python3",
      "display_name": "Python 3"
    },
    "accelerator": "GPU"
  },
  "cells": [
    {
      "cell_type": "markdown",
      "metadata": {
        "id": "view-in-github",
        "colab_type": "text"
      },
      "source": [
        "<a href=\"https://colab.research.google.com/github/Kravty/MachineLearning/blob/main/PyTorch_Recommender_MovieLens_20M.ipynb\" target=\"_parent\"><img src=\"https://colab.research.google.com/assets/colab-badge.svg\" alt=\"Open In Colab\"/></a>"
      ]
    },
    {
      "cell_type": "markdown",
      "metadata": {
        "id": "7rCY0lb6EKz7"
      },
      "source": [
        "<h3> This notebook contains the Recommender Model (using PyTorch) on MovieLens 20M dataset (20 million ratings and 465,000 tag applications applied to 27,000 movies by 138,000 users. Includes tag genome data with 12 million relevance scores across 1,100 tags). \r\n",
        "<h3> At the end of the notebook, the model produces predictions - recommendations for particular user."
      ]
    },
    {
      "cell_type": "markdown",
      "metadata": {
        "id": "3RHigOnLGtJm"
      },
      "source": [
        "<h4> Import of libraries"
      ]
    },
    {
      "cell_type": "code",
      "metadata": {
        "id": "k52IghmtD9MS"
      },
      "source": [
        "import torch\r\n",
        "import torch.nn as nn\r\n",
        "import torch.nn.functional as F\r\n",
        "import numpy as np\r\n",
        "import pandas as pd\r\n",
        "import matplotlib.pyplot as plt\r\n",
        "from datetime import datetime\r\n",
        "from sklearn.utils import shuffle"
      ],
      "execution_count": 1,
      "outputs": []
    },
    {
      "cell_type": "markdown",
      "metadata": {
        "id": "UksdyZPXH0KO"
      },
      "source": [
        "<h4> Data Preparation"
      ]
    },
    {
      "cell_type": "code",
      "metadata": {
        "id": "JhO8yC_JHHAG",
        "colab": {
          "base_uri": "https://localhost:8080/"
        },
        "outputId": "2fb8d0c1-931b-41dd-ab9a-01770a6d1801"
      },
      "source": [
        "# Downloading the data\r\n",
        "!wget -nc http://files.grouplens.org/datasets/movielens/ml-20m.zip"
      ],
      "execution_count": 2,
      "outputs": [
        {
          "output_type": "stream",
          "text": [
            "File ‘ml-20m.zip’ already there; not retrieving.\n",
            "\n"
          ],
          "name": "stdout"
        }
      ]
    },
    {
      "cell_type": "code",
      "metadata": {
        "colab": {
          "base_uri": "https://localhost:8080/"
        },
        "id": "6MKcJc1BH4u1",
        "outputId": "876203be-7bfe-41f8-d692-e73a92277130"
      },
      "source": [
        "!unzip -n ml-20m.zip\r\n",
        "!ls"
      ],
      "execution_count": 3,
      "outputs": [
        {
          "output_type": "stream",
          "text": [
            "Archive:  ml-20m.zip\n",
            "ml-20m\tml-20m.zip  sample_data\n"
          ],
          "name": "stdout"
        }
      ]
    },
    {
      "cell_type": "code",
      "metadata": {
        "colab": {
          "base_uri": "https://localhost:8080/",
          "height": 206
        },
        "id": "nDa6dUX8IBzm",
        "outputId": "f35acd72-edd7-4de6-aef4-bebea9f2af09"
      },
      "source": [
        "# Displaying first 5 rows of the csv file using pandas\r\n",
        "df = pd.read_csv('ml-20m/ratings.csv')\r\n",
        "df.head()"
      ],
      "execution_count": 4,
      "outputs": [
        {
          "output_type": "execute_result",
          "data": {
            "text/html": [
              "<div>\n",
              "<style scoped>\n",
              "    .dataframe tbody tr th:only-of-type {\n",
              "        vertical-align: middle;\n",
              "    }\n",
              "\n",
              "    .dataframe tbody tr th {\n",
              "        vertical-align: top;\n",
              "    }\n",
              "\n",
              "    .dataframe thead th {\n",
              "        text-align: right;\n",
              "    }\n",
              "</style>\n",
              "<table border=\"1\" class=\"dataframe\">\n",
              "  <thead>\n",
              "    <tr style=\"text-align: right;\">\n",
              "      <th></th>\n",
              "      <th>userId</th>\n",
              "      <th>movieId</th>\n",
              "      <th>rating</th>\n",
              "      <th>timestamp</th>\n",
              "    </tr>\n",
              "  </thead>\n",
              "  <tbody>\n",
              "    <tr>\n",
              "      <th>0</th>\n",
              "      <td>1</td>\n",
              "      <td>2</td>\n",
              "      <td>3.5</td>\n",
              "      <td>1112486027</td>\n",
              "    </tr>\n",
              "    <tr>\n",
              "      <th>1</th>\n",
              "      <td>1</td>\n",
              "      <td>29</td>\n",
              "      <td>3.5</td>\n",
              "      <td>1112484676</td>\n",
              "    </tr>\n",
              "    <tr>\n",
              "      <th>2</th>\n",
              "      <td>1</td>\n",
              "      <td>32</td>\n",
              "      <td>3.5</td>\n",
              "      <td>1112484819</td>\n",
              "    </tr>\n",
              "    <tr>\n",
              "      <th>3</th>\n",
              "      <td>1</td>\n",
              "      <td>47</td>\n",
              "      <td>3.5</td>\n",
              "      <td>1112484727</td>\n",
              "    </tr>\n",
              "    <tr>\n",
              "      <th>4</th>\n",
              "      <td>1</td>\n",
              "      <td>50</td>\n",
              "      <td>3.5</td>\n",
              "      <td>1112484580</td>\n",
              "    </tr>\n",
              "  </tbody>\n",
              "</table>\n",
              "</div>"
            ],
            "text/plain": [
              "   userId  movieId  rating   timestamp\n",
              "0       1        2     3.5  1112486027\n",
              "1       1       29     3.5  1112484676\n",
              "2       1       32     3.5  1112484819\n",
              "3       1       47     3.5  1112484727\n",
              "4       1       50     3.5  1112484580"
            ]
          },
          "metadata": {
            "tags": []
          },
          "execution_count": 4
        }
      ]
    },
    {
      "cell_type": "code",
      "metadata": {
        "id": "xMCdYISlJF2t"
      },
      "source": [
        "# Adding own numeration of userId to start from 0\r\n",
        "df.userId = pd.Categorical(df.userId)\r\n",
        "# Saving new IDs\r\n",
        "df['new_user_id'] = df.userId.cat.codes\r\n",
        "\r\n",
        "# Adding own numeration of movieId to start from 0\r\n",
        "df.movieId = pd.Categorical(df.movieId)\r\n",
        "df['new_movie_id'] = df.movieId.cat.codes"
      ],
      "execution_count": 5,
      "outputs": []
    },
    {
      "cell_type": "code",
      "metadata": {
        "id": "9DUCdcOTKZt8"
      },
      "source": [
        "# Getting user IDs, movie IDs and ratings as separate arrays\r\n",
        "user_ids = df['new_user_id'].values\r\n",
        "movie_ids = df['new_movie_id'].values\r\n",
        "# Additionally standardizing ratings (center the data; min = -2.5, max = 2.5)\r\n",
        "ratings = df['rating'].values - 2.5"
      ],
      "execution_count": 6,
      "outputs": []
    },
    {
      "cell_type": "code",
      "metadata": {
        "id": "VNqKYoL4KxjM"
      },
      "source": [
        "# Getting number of users and number of movies\r\n",
        "N = len(set(user_ids))\r\n",
        "M = len(set(movie_ids))\r\n",
        "\r\n",
        "# Setting embedding dimension\r\n",
        "D = 10"
      ],
      "execution_count": 7,
      "outputs": []
    },
    {
      "cell_type": "markdown",
      "metadata": {
        "id": "CUZPxY_ALpUj"
      },
      "source": [
        "<h4> Buidling the model"
      ]
    },
    {
      "cell_type": "code",
      "metadata": {
        "id": "DqJUhLcIL1Ds"
      },
      "source": [
        "class Model(nn.Module):\r\n",
        "  def __init__(self, n_users, n_items, embed_dim, n_hidden=1024):\r\n",
        "    super(Model, self).__init__()\r\n",
        "    self.N = n_users\r\n",
        "    self.M = n_items\r\n",
        "    self.D = embed_dim\r\n",
        "\r\n",
        "    # Custom Model is necessary because there are multiple inputs that Sequential won't handle\r\n",
        "    self.u_emb = nn.Embedding(self.N, self.D)\r\n",
        "    self.m_emb = nn.Embedding(self.M, self.D)\r\n",
        "    self.fc1 = nn.Linear(2 * self.D, n_hidden)\r\n",
        "    # One output because scalar regression output is a target\r\n",
        "    self.fc2 = nn.Linear(n_hidden, 1)\r\n",
        "\r\n",
        "    # The initialized by PyTorch weights are N(0, 1) which leads to poor results\r\n",
        "    # Inspiring TensorFlow weights initialization we can manually change the weights\r\n",
        "    self.u_emb.weight.data = nn.Parameter(\r\n",
        "        torch.Tensor(np.random.randn(self.N, self.D) *0.01)\r\n",
        "    )\r\n",
        "    self.m_emb.weight.data = nn.Parameter(\r\n",
        "        torch.Tensor(np.random.randn(self.M, self.D) * 0.01)\r\n",
        "    )\r\n",
        "\r\n",
        "  def forward(self, u, m):\r\n",
        "      u = self.u_emb(u) # Output has shape (n_samples x D)\r\n",
        "      m = self.m_emb(m) # Output has shape (n_samples x D)\r\n",
        "\r\n",
        "      # Concatenating both inputs\r\n",
        "      out = torch.cat((u, m), 1) # output is (num_samples, 2D)\r\n",
        "\r\n",
        "      out = self.fc1(out)\r\n",
        "      out = F.relu(out)\r\n",
        "      out = self.fc2(out)\r\n",
        "      return out\r\n",
        "\r\n",
        "    "
      ],
      "execution_count": 8,
      "outputs": []
    },
    {
      "cell_type": "code",
      "metadata": {
        "colab": {
          "base_uri": "https://localhost:8080/"
        },
        "id": "m9VmD02FOQ3b",
        "outputId": "c4743c0c-31fd-4bee-e641-405212149b6c"
      },
      "source": [
        "# Creating device object\r\n",
        "device = torch.device(\"cuda:0\" if torch.cuda.is_available() else \"cpu\")\r\n",
        "print(device)"
      ],
      "execution_count": 9,
      "outputs": [
        {
          "output_type": "stream",
          "text": [
            "cuda:0\n"
          ],
          "name": "stdout"
        }
      ]
    },
    {
      "cell_type": "code",
      "metadata": {
        "colab": {
          "base_uri": "https://localhost:8080/"
        },
        "id": "0PSWctW4OURD",
        "outputId": "1531daad-9fba-4b1b-bf5c-bc296dbb90e1"
      },
      "source": [
        "# Moving the model to GPU\r\n",
        "model = Model(N, M, D)\r\n",
        "model.to(device)"
      ],
      "execution_count": 10,
      "outputs": [
        {
          "output_type": "execute_result",
          "data": {
            "text/plain": [
              "Model(\n",
              "  (u_emb): Embedding(138493, 10)\n",
              "  (m_emb): Embedding(26744, 10)\n",
              "  (fc1): Linear(in_features=20, out_features=1024, bias=True)\n",
              "  (fc2): Linear(in_features=1024, out_features=1, bias=True)\n",
              ")"
            ]
          },
          "metadata": {
            "tags": []
          },
          "execution_count": 10
        }
      ]
    },
    {
      "cell_type": "code",
      "metadata": {
        "id": "uDt5usz2bU7s"
      },
      "source": [
        "# Loss and optimizer\r\n",
        "criterion = nn.MSELoss()\r\n",
        "optimizer = torch.optim.Adam(model.parameters())"
      ],
      "execution_count": 11,
      "outputs": []
    },
    {
      "cell_type": "markdown",
      "metadata": {
        "id": "1KlVUGr6gZt8"
      },
      "source": [
        "<h4> Training the model"
      ]
    },
    {
      "cell_type": "code",
      "metadata": {
        "id": "64oPmschbaM5"
      },
      "source": [
        "# Training loop (much faster training than by using build-in datasets and data loaders)\r\n",
        "def batch_gd(model, criterion, optimizer, train_data, test_data, epochs, bs=512):\r\n",
        "  train_users, train_movies, train_ratings = train_data\r\n",
        "  test_users, test_movies, test_ratings = test_data\r\n",
        "\r\n",
        "  train_losses = np.zeros(epochs)\r\n",
        "  test_losses = np.zeros(epochs)\r\n",
        "\r\n",
        "  # Calculating batches per epoch\r\n",
        "  Ntrain = len(train_users)\r\n",
        "  # The result of division can be not an integer so we take ceiling (rounded up)\r\n",
        "  batches_per_epoch = int(np.ceil(Ntrain / bs))\r\n",
        "\r\n",
        "  for it in range(epochs):\r\n",
        "    t0 = datetime.now()\r\n",
        "    # Variable for storing train losses\r\n",
        "    train_loss = []\r\n",
        "\r\n",
        "    # Shuffle (from sklearn library) each batch\r\n",
        "    train_users, train_movies, train_ratings = shuffle(\r\n",
        "        train_users, train_movies, train_ratings\r\n",
        "    )\r\n",
        "\r\n",
        "    for j in range(batches_per_epoch):\r\n",
        "      # Getting one batch\r\n",
        "      users = train_users[j*bs:(j+1)*bs]\r\n",
        "      movies = train_movies[j*bs:(j+1)*bs]\r\n",
        "      targets = train_ratings[j*bs:(j+1)*bs]\r\n",
        "\r\n",
        "      # Converting to tensors\r\n",
        "      users = torch.from_numpy(users).long()\r\n",
        "      movies = torch.from_numpy(movies).long()\r\n",
        "      targets = torch.from_numpy(targets)\r\n",
        "    \r\n",
        "      # Reshaping targets\r\n",
        "      targets = targets.view(-1, 1).float()\r\n",
        "\r\n",
        "      # Moving the data to GPU\r\n",
        "      users, movies, targets = users.to(device), movies.to(device), targets.to(device)\r\n",
        "\r\n",
        "      # Zero the gradients accumulated by PyTorch\r\n",
        "      optimizer.zero_grad()\r\n",
        "\r\n",
        "      # Forward pass\r\n",
        "      outputs = model(users, movies)\r\n",
        "      loss = criterion(outputs, targets)\r\n",
        "        \r\n",
        "      # Backward and optimize\r\n",
        "      loss.backward()\r\n",
        "      optimizer.step()\r\n",
        "\r\n",
        "      # Appending the loss to list of losses per iteration/batch\r\n",
        "      train_loss.append(loss.item())\r\n",
        "\r\n",
        "    # Taking mean value of previous losses as loss per epoch\r\n",
        "    train_loss = np.mean(train_loss)\r\n",
        "    \r\n",
        "    \r\n",
        "    # Variable for storing test losses\r\n",
        "    test_loss = []\r\n",
        "    for j in range(int(np.ceil(len(test_users) / bs))):\r\n",
        "      # Getting one batch\r\n",
        "      users = test_users[j*bs:(j+1)*bs]\r\n",
        "      movies = test_movies[j*bs:(j+1)*bs]\r\n",
        "      targets = test_ratings[j*bs:(j+1)*bs]\r\n",
        "\r\n",
        "      # Converting to tensors\r\n",
        "      users = torch.from_numpy(users).long()\r\n",
        "      movies = torch.from_numpy(movies).long()\r\n",
        "      targets = torch.from_numpy(targets)\r\n",
        "    \r\n",
        "      # Reshaping targets\r\n",
        "      targets = targets.view(-1, 1).float()\r\n",
        "\r\n",
        "      # Moving the data to GPU\r\n",
        "      users, movies, targets = users.to(device), movies.to(device), targets.to(device)\r\n",
        "\r\n",
        "      outputs = model(users, movies)\r\n",
        "      loss = criterion(outputs, targets).item()\r\n",
        "\r\n",
        "      # Appending the loss to list of losses per iteration/batch\r\n",
        "      test_loss.append(loss)\r\n",
        "    \r\n",
        "    # Taking mean value of previous losses as loss per epoch\r\n",
        "    test_loss = np.mean(test_loss)\r\n",
        "\r\n",
        "    # Saving the losses\r\n",
        "    train_losses[it] = train_loss\r\n",
        "    test_losses[it] = test_loss\r\n",
        "    \r\n",
        "    # Calculating training time per epoch\r\n",
        "    dt = datetime.now() - t0\r\n",
        "    \r\n",
        "    print(f'Epoch {it+1}/{epochs}, Train Loss: {train_loss:.4f}, '\r\n",
        "          f'Test Loss: {test_loss:.4f}, Duration: {dt}')\r\n",
        "  \r\n",
        "  return train_losses, test_losses"
      ],
      "execution_count": 12,
      "outputs": []
    },
    {
      "cell_type": "code",
      "metadata": {
        "id": "f-4wtavceEzk"
      },
      "source": [
        "# Shuffle the data to randomize train/test split\r\n",
        "user_ids, movie_ids, ratings = shuffle(user_ids, movie_ids, ratings)"
      ],
      "execution_count": 13,
      "outputs": []
    },
    {
      "cell_type": "code",
      "metadata": {
        "id": "wiEsj7YNeKjN"
      },
      "source": [
        "# Splitting the data to train set and validation set\r\n",
        "Ntrain = int(0.8 * len(ratings))\r\n",
        "\r\n",
        "train_users = user_ids[:Ntrain]\r\n",
        "train_movies = movie_ids[:Ntrain]\r\n",
        "train_ratings = ratings[:Ntrain]\r\n",
        "\r\n",
        "test_users = user_ids[Ntrain:]\r\n",
        "test_movies = movie_ids[Ntrain:]\r\n",
        "test_ratings = ratings[Ntrain:]"
      ],
      "execution_count": 14,
      "outputs": []
    },
    {
      "cell_type": "code",
      "metadata": {
        "colab": {
          "base_uri": "https://localhost:8080/"
        },
        "id": "ab9Yt8LjegNe",
        "outputId": "bc252411-a4b9-4523-b46d-25c9fba9cb78"
      },
      "source": [
        "# Calling training function\r\n",
        "train_losses, test_losses = batch_gd(\r\n",
        "    model,\r\n",
        "    criterion,\r\n",
        "    optimizer,\r\n",
        "    (train_users, train_movies, train_ratings),\r\n",
        "    (test_users, test_movies, test_ratings), \r\n",
        "    epochs=10)"
      ],
      "execution_count": 15,
      "outputs": [
        {
          "output_type": "stream",
          "text": [
            "Epoch 1/10, Train Loss: 0.7254, Test Loss: 0.6816, Duration: 0:01:07.154630\n",
            "Epoch 2/10, Train Loss: 0.6530, Test Loss: 0.6518, Duration: 0:01:07.476709\n",
            "Epoch 3/10, Train Loss: 0.6191, Test Loss: 0.6389, Duration: 0:01:06.772010\n",
            "Epoch 4/10, Train Loss: 0.5982, Test Loss: 0.6355, Duration: 0:01:06.880290\n",
            "Epoch 5/10, Train Loss: 0.5843, Test Loss: 0.6302, Duration: 0:01:06.670528\n",
            "Epoch 6/10, Train Loss: 0.5745, Test Loss: 0.6269, Duration: 0:01:06.281677\n",
            "Epoch 7/10, Train Loss: 0.5674, Test Loss: 0.6274, Duration: 0:01:06.549647\n",
            "Epoch 8/10, Train Loss: 0.5621, Test Loss: 0.6251, Duration: 0:01:06.020234\n",
            "Epoch 9/10, Train Loss: 0.5578, Test Loss: 0.6238, Duration: 0:01:05.637986\n",
            "Epoch 10/10, Train Loss: 0.5544, Test Loss: 0.6260, Duration: 0:01:05.212275\n"
          ],
          "name": "stdout"
        }
      ]
    },
    {
      "cell_type": "code",
      "metadata": {
        "colab": {
          "base_uri": "https://localhost:8080/",
          "height": 265
        },
        "id": "AKdI1H9ag9eT",
        "outputId": "66b877b0-c441-44a1-b7a8-7c24a1ce346f"
      },
      "source": [
        "plt.plot(train_losses, label='Train losses')\r\n",
        "plt.plot(test_losses, label='Test losses')\r\n",
        "plt.legend()\r\n",
        "plt.show();"
      ],
      "execution_count": 16,
      "outputs": [
        {
          "output_type": "display_data",
          "data": {
            "image/png": "[encoded data removed]",
            "text/plain": [
              "<Figure size 432x288 with 1 Axes>"
            ]
          },
          "metadata": {
            "tags": [],
            "needs_background": "light"
          }
        }
      ]
    },
    {
      "cell_type": "markdown",
      "metadata": {
        "id": "mLiIKsnbn-3h"
      },
      "source": [
        "<h4> Making predictions"
      ]
    },
    {
      "cell_type": "code",
      "metadata": {
        "colab": {
          "base_uri": "https://localhost:8080/"
        },
        "id": "-dKasZNln6hx",
        "outputId": "cea24d55-53a7-4d5d-efd5-9050c9ec4f67"
      },
      "source": [
        "# Assuming that recommendations will be made for user_id = 1\r\n",
        "# Saving already watched movies\r\n",
        "watched_movie_ids = df[df.new_user_id == 1].new_movie_id.values\r\n",
        "print(f\"Already watched movie IDs are: {watched_movie_ids}\")"
      ],
      "execution_count": 17,
      "outputs": [
        {
          "output_type": "stream",
          "text": [
            "Already watched movie IDs are: [   2   61   69  108  239  257  263  465  476  537  583  874  891  907\n",
            " 1098 1171 1184 1188 1221 1231 1242 1298 1326 1494 1528 1616 1684 1881\n",
            " 1885 1886 1887 1888 1889 1890 1902 2206 2369 2370 2705 2772 2862 2865\n",
            " 3063 3072 3086 3361 3423 3443 3464 3474 3612 3662 3824 3825 3830 3833\n",
            " 3834 3835 3837 3843 3865]\n"
          ],
          "name": "stdout"
        }
      ]
    },
    {
      "cell_type": "code",
      "metadata": {
        "colab": {
          "base_uri": "https://localhost:8080/"
        },
        "id": "heV50stSojED",
        "outputId": "3ef242dd-51e8-467c-fa48-792cc0406fa3"
      },
      "source": [
        "# By \"~\" before \".isin\" function we get movie IDs that are not watched\r\n",
        "# .unique function is used because multiple users could have watch the same movies \r\n",
        "potential_movie_ids = df[~df.new_movie_id.isin(watched_movie_ids)].new_movie_id.unique()\r\n",
        "print(f\"Shape of potential_movie_ids is {potential_movie_ids.shape}\")"
      ],
      "execution_count": 18,
      "outputs": [
        {
          "output_type": "stream",
          "text": [
            "Shape of potential_movie_ids is (26683,)\n"
          ],
          "name": "stdout"
        }
      ]
    },
    {
      "cell_type": "code",
      "metadata": {
        "id": "mTZszbb-pBJQ"
      },
      "source": [
        "# Repeatting the user ID by the number of not watched movies\r\n",
        "user_id_to_recommend = np.ones_like(potential_movie_ids)"
      ],
      "execution_count": 19,
      "outputs": []
    },
    {
      "cell_type": "code",
      "metadata": {
        "id": "vWhnwlZepdQo"
      },
      "source": [
        "# Converting to tensors\r\n",
        "t_user_ids = torch.from_numpy(user_id_to_recommend).long().to(device)\r\n",
        "t_movie_ids = torch.from_numpy(potential_movie_ids).long().to(device)"
      ],
      "execution_count": 20,
      "outputs": []
    },
    {
      "cell_type": "code",
      "metadata": {
        "id": "FPn_HMSHplew"
      },
      "source": [
        "# Getting predictions\r\n",
        "with torch.no_grad():\r\n",
        "  predictions = model(t_user_ids, t_movie_ids)"
      ],
      "execution_count": 21,
      "outputs": []
    },
    {
      "cell_type": "code",
      "metadata": {
        "id": "iaSUw7RDp1p_"
      },
      "source": [
        "# Convertting predictions back to NumPy\r\n",
        "predictions_np = predictions.cpu().numpy().flatten()\r\n",
        "\r\n",
        "# Sorting indexes in descending order\r\n",
        "sort_idx = np.argsort(-predictions_np)"
      ],
      "execution_count": 22,
      "outputs": []
    },
    {
      "cell_type": "code",
      "metadata": {
        "colab": {
          "base_uri": "https://localhost:8080/"
        },
        "id": "tT4EQj1SqMvX",
        "outputId": "5ac12f06-5720-47ad-aee0-a733f33c500e"
      },
      "source": [
        "# Printing top 10 predictions\r\n",
        "top_10_movie_ids = potential_movie_ids[sort_idx[:10]]\r\n",
        "top_10_scores = predictions_np[sort_idx[:10]]\r\n",
        "\r\n",
        "for movie, score in zip(top_10_movie_ids, top_10_scores):\r\n",
        "  print(\"movie:\", movie, \"score:\", score)"
      ],
      "execution_count": 23,
      "outputs": [
        {
          "output_type": "stream",
          "text": [
            "movie: 18634 score: 2.6638746\n",
            "movie: 17466 score: 2.6505167\n",
            "movie: 9083 score: 2.602747\n",
            "movie: 4897 score: 2.5932777\n",
            "movie: 7041 score: 2.5801623\n",
            "movie: 23381 score: 2.5457282\n",
            "movie: 5519 score: 2.5452924\n",
            "movie: 5853 score: 2.5438712\n",
            "movie: 1263 score: 2.5381198\n",
            "movie: 10591 score: 2.5203006\n"
          ],
          "name": "stdout"
        }
      ]
    }
  ]
}