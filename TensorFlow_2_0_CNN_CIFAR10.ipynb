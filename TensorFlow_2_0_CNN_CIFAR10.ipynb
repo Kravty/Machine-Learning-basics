{
  "nbformat": 4,
  "nbformat_minor": 0,
  "metadata": {
    "colab": {
      "name": "TensorFlow 2.0 CNN CIFAR10 Model.ipynb",
      "provenance": [],
      "authorship_tag": "ABX9TyN2JoAjQa+c7uq8gp7IdUl8",
      "include_colab_link": true
    },
    "kernelspec": {
      "name": "python3",
      "display_name": "Python 3"
    },
    "accelerator": "GPU"
  },
  "cells": [
    {
      "cell_type": "markdown",
      "metadata": {
        "id": "view-in-github",
        "colab_type": "text"
      },
      "source": [
        "<a href=\"https://colab.research.google.com/github/Kravty/MachineLearning/blob/main/TensorFlow_2_0_CNN_CIFAR10.ipynb\" target=\"_parent\"><img src=\"https://colab.research.google.com/assets/colab-badge.svg\" alt=\"Open In Colab\"/></a>"
      ]
    },
    {
      "cell_type": "markdown",
      "metadata": {
        "id": "aX7t5KOcOUUH"
      },
      "source": [
        "<h2> CNN model in TensorFlow 2.0 used for classification of CIFAR10 dataset. \r\n",
        "<h2> Multiple convolution layers are used (VGG alike) in order to better accuracy.\r\n",
        "\r\n",
        "\r\n"
      ]
    },
    {
      "cell_type": "markdown",
      "metadata": {
        "id": "8vgbq7J2OtFm"
      },
      "source": [
        "<h3> Import of libraries"
      ]
    },
    {
      "cell_type": "code",
      "metadata": {
        "id": "hWn-UAxKNd-S"
      },
      "source": [
        "import tensorflow as tf\r\n",
        "import numpy as np\r\n",
        "import matplotlib.pyplot as plt\r\n",
        "from tensorflow.keras.layers import Input, Conv2D, Dense, Flatten, Dropout, GlobalMaxPooling2D, MaxPooling2D, BatchNormalization\r\n",
        "from tensorflow.keras.models import Model\r\n",
        "from sklearn.metrics import confusion_matrix\r\n",
        "import itertools"
      ],
      "execution_count": 1,
      "outputs": []
    },
    {
      "cell_type": "markdown",
      "metadata": {
        "id": "eCGWz7C_O202"
      },
      "source": [
        "<h3> Data preparation"
      ]
    },
    {
      "cell_type": "code",
      "metadata": {
        "id": "MQvuqrOpOBEu",
        "colab": {
          "base_uri": "https://localhost:8080/"
        },
        "outputId": "7d93ffe7-2a64-44de-9d7a-4984fe01a6dc"
      },
      "source": [
        "(x_train, y_train), (x_test, y_test) = tf.keras.datasets.cifar10.load_data()"
      ],
      "execution_count": 2,
      "outputs": [
        {
          "output_type": "stream",
          "text": [
            "Downloading data from https://www.cs.toronto.edu/~kriz/cifar-10-python.tar.gz\n",
            "170500096/170498071 [==============================] - 3s 0us/step\n"
          ],
          "name": "stdout"
        }
      ]
    },
    {
      "cell_type": "code",
      "metadata": {
        "colab": {
          "base_uri": "https://localhost:8080/"
        },
        "id": "viFyOcwjO-N-",
        "outputId": "86f82bcd-4480-49c9-92ec-99ac2a167cb0"
      },
      "source": [
        "print(f'Shape of input train data is {x_train.shape}')\r\n",
        "print(f'Shape of output train data is {y_train.shape}')"
      ],
      "execution_count": 3,
      "outputs": [
        {
          "output_type": "stream",
          "text": [
            "Shape of input train data is (50000, 32, 32, 3)\n",
            "Shape of output train data is (50000, 1)\n"
          ],
          "name": "stdout"
        }
      ]
    },
    {
      "cell_type": "code",
      "metadata": {
        "colab": {
          "base_uri": "https://localhost:8080/"
        },
        "id": "fICIk2FrPCr-",
        "outputId": "c409c137-25a4-43e0-f68c-a66c9bd95a50"
      },
      "source": [
        "# Scaling the pixel values into 0 to 1 range\r\n",
        "x_train, x_test = x_train / 255, x_test / 255\r\n",
        "\r\n",
        "# Targets are 2D array instead of 1D. They should be flattened to fit TensorFlow format\r\n",
        "y_train, y_test = y_train.flatten(), y_test.flatten()\r\n",
        "print(f'Shape of target train data is {y_train.shape}')"
      ],
      "execution_count": 4,
      "outputs": [
        {
          "output_type": "stream",
          "text": [
            "Shape of target train data is (50000,)\n"
          ],
          "name": "stdout"
        }
      ]
    },
    {
      "cell_type": "code",
      "metadata": {
        "id": "nMSusYvITrW0"
      },
      "source": [
        "# Data augmentation\r\n",
        "batch_size = 32\r\n",
        "data_generator = tf.keras.preprocessing.image.ImageDataGenerator(width_shift_range=0.1, height_shift_range=0.1, horizontal_flip=True)\r\n",
        "train_generator = data_generator.flow(x_train, y_train, batch_size)\r\n",
        "steps_per_epoch = x_train.shape[0] // batch_size"
      ],
      "execution_count": 5,
      "outputs": []
    },
    {
      "cell_type": "markdown",
      "metadata": {
        "id": "ztkOLXjdRku-"
      },
      "source": [
        "<h3> Building the model"
      ]
    },
    {
      "cell_type": "code",
      "metadata": {
        "colab": {
          "base_uri": "https://localhost:8080/"
        },
        "id": "vOqWKnTwSJLe",
        "outputId": "f157c3ef-6569-47b8-aa9c-c7ed4c3b018e"
      },
      "source": [
        "# Building the model using functional API\r\n",
        "i = Input(shape=x_train[0].shape)\r\n",
        "x = Conv2D(32, (3, 3), activation='relu', padding='same')(i)\r\n",
        "x = BatchNormalization()(x)\r\n",
        "x = Conv2D(32, (3, 3), activation='relu', padding='same')(x)\r\n",
        "x = BatchNormalization()(x)\r\n",
        "x = MaxPooling2D((2, 2))(x)\r\n",
        "\r\n",
        "x = Conv2D(64, (3, 3), activation='relu', padding='same')(x)\r\n",
        "x = BatchNormalization()(x)\r\n",
        "x = Conv2D(64, (3, 3), activation='relu', padding='same')(x)\r\n",
        "x = BatchNormalization()(x)\r\n",
        "x = MaxPooling2D(2, 2)(x)\r\n",
        "\r\n",
        "x = Conv2D(128, (3, 3), activation='relu', padding='same')(x)\r\n",
        "x = BatchNormalization()(x)\r\n",
        "x = Conv2D(128, (3, 3), activation='relu', padding='same')(x)\r\n",
        "x = BatchNormalization()(x)\r\n",
        "x = MaxPooling2D()(x)\r\n",
        "\r\n",
        "x = Flatten()(x)\r\n",
        "x = Dropout(0.2)(x)\r\n",
        "x = Dense(1024, activation='relu')(x)\r\n",
        "x = Dropout(0.2)(x)\r\n",
        "x= Dense(10, activation='softmax')(x)\r\n",
        "\r\n",
        "model = Model(i, x)\r\n",
        "model.summary()"
      ],
      "execution_count": 6,
      "outputs": [
        {
          "output_type": "stream",
          "text": [
            "Model: \"model\"\n",
            "_________________________________________________________________\n",
            "Layer (type)                 Output Shape              Param #   \n",
            "=================================================================\n",
            "input_1 (InputLayer)         [(None, 32, 32, 3)]       0         \n",
            "_________________________________________________________________\n",
            "conv2d (Conv2D)              (None, 32, 32, 32)        896       \n",
            "_________________________________________________________________\n",
            "batch_normalization (BatchNo (None, 32, 32, 32)        128       \n",
            "_________________________________________________________________\n",
            "conv2d_1 (Conv2D)            (None, 32, 32, 32)        9248      \n",
            "_________________________________________________________________\n",
            "batch_normalization_1 (Batch (None, 32, 32, 32)        128       \n",
            "_________________________________________________________________\n",
            "max_pooling2d (MaxPooling2D) (None, 16, 16, 32)        0         \n",
            "_________________________________________________________________\n",
            "conv2d_2 (Conv2D)            (None, 16, 16, 64)        18496     \n",
            "_________________________________________________________________\n",
            "batch_normalization_2 (Batch (None, 16, 16, 64)        256       \n",
            "_________________________________________________________________\n",
            "conv2d_3 (Conv2D)            (None, 16, 16, 64)        36928     \n",
            "_________________________________________________________________\n",
            "batch_normalization_3 (Batch (None, 16, 16, 64)        256       \n",
            "_________________________________________________________________\n",
            "max_pooling2d_1 (MaxPooling2 (None, 8, 8, 64)          0         \n",
            "_________________________________________________________________\n",
            "conv2d_4 (Conv2D)            (None, 8, 8, 128)         73856     \n",
            "_________________________________________________________________\n",
            "batch_normalization_4 (Batch (None, 8, 8, 128)         512       \n",
            "_________________________________________________________________\n",
            "conv2d_5 (Conv2D)            (None, 8, 8, 128)         147584    \n",
            "_________________________________________________________________\n",
            "batch_normalization_5 (Batch (None, 8, 8, 128)         512       \n",
            "_________________________________________________________________\n",
            "max_pooling2d_2 (MaxPooling2 (None, 4, 4, 128)         0         \n",
            "_________________________________________________________________\n",
            "flatten (Flatten)            (None, 2048)              0         \n",
            "_________________________________________________________________\n",
            "dropout (Dropout)            (None, 2048)              0         \n",
            "_________________________________________________________________\n",
            "dense (Dense)                (None, 1024)              2098176   \n",
            "_________________________________________________________________\n",
            "dropout_1 (Dropout)          (None, 1024)              0         \n",
            "_________________________________________________________________\n",
            "dense_1 (Dense)              (None, 10)                10250     \n",
            "=================================================================\n",
            "Total params: 2,397,226\n",
            "Trainable params: 2,396,330\n",
            "Non-trainable params: 896\n",
            "_________________________________________________________________\n"
          ],
          "name": "stdout"
        }
      ]
    },
    {
      "cell_type": "code",
      "metadata": {
        "colab": {
          "base_uri": "https://localhost:8080/"
        },
        "id": "NK3OPRw-TcXx",
        "outputId": "e0ae8dfd-bef0-45e6-f1b1-db7a3fe83e59"
      },
      "source": [
        "model.compile(optimizer='adam', loss='sparse_categorical_crossentropy',\r\n",
        "              metrics='accuracy')\r\n",
        "\r\n",
        "r = model.fit(train_generator, validation_data=(x_test, y_test), steps_per_epoch=steps_per_epoch, epochs=50)"
      ],
      "execution_count": 7,
      "outputs": [
        {
          "output_type": "stream",
          "text": [
            "Epoch 1/50\n",
            "1562/1562 [==============================] - 34s 17ms/step - loss: 1.9257 - accuracy: 0.3933 - val_loss: 1.0401 - val_accuracy: 0.6323\n",
            "Epoch 2/50\n",
            "1562/1562 [==============================] - 25s 16ms/step - loss: 1.0425 - accuracy: 0.6345 - val_loss: 0.8381 - val_accuracy: 0.7094\n",
            "Epoch 3/50\n",
            "1562/1562 [==============================] - 26s 16ms/step - loss: 0.8621 - accuracy: 0.7015 - val_loss: 0.7894 - val_accuracy: 0.7252\n",
            "Epoch 4/50\n",
            "1562/1562 [==============================] - 26s 17ms/step - loss: 0.7568 - accuracy: 0.7405 - val_loss: 0.7182 - val_accuracy: 0.7604\n",
            "Epoch 5/50\n",
            "1562/1562 [==============================] - 25s 16ms/step - loss: 0.6942 - accuracy: 0.7630 - val_loss: 0.7184 - val_accuracy: 0.7685\n",
            "Epoch 6/50\n",
            "1562/1562 [==============================] - 25s 16ms/step - loss: 0.6446 - accuracy: 0.7795 - val_loss: 0.5999 - val_accuracy: 0.7995\n",
            "Epoch 7/50\n",
            "1562/1562 [==============================] - 26s 16ms/step - loss: 0.5946 - accuracy: 0.7960 - val_loss: 0.6192 - val_accuracy: 0.7913\n",
            "Epoch 8/50\n",
            "1562/1562 [==============================] - 25s 16ms/step - loss: 0.5609 - accuracy: 0.8099 - val_loss: 0.5576 - val_accuracy: 0.8160\n",
            "Epoch 9/50\n",
            "1562/1562 [==============================] - 25s 16ms/step - loss: 0.5166 - accuracy: 0.8226 - val_loss: 0.5117 - val_accuracy: 0.8311\n",
            "Epoch 10/50\n",
            "1562/1562 [==============================] - 25s 16ms/step - loss: 0.4998 - accuracy: 0.8300 - val_loss: 0.6019 - val_accuracy: 0.7997\n",
            "Epoch 11/50\n",
            "1562/1562 [==============================] - 26s 17ms/step - loss: 0.4774 - accuracy: 0.8379 - val_loss: 0.4990 - val_accuracy: 0.8314\n",
            "Epoch 12/50\n",
            "1562/1562 [==============================] - 25s 16ms/step - loss: 0.4534 - accuracy: 0.8441 - val_loss: 0.4737 - val_accuracy: 0.8410\n",
            "Epoch 13/50\n",
            "1562/1562 [==============================] - 26s 16ms/step - loss: 0.4367 - accuracy: 0.8491 - val_loss: 0.5193 - val_accuracy: 0.8313\n",
            "Epoch 14/50\n",
            "1562/1562 [==============================] - 26s 17ms/step - loss: 0.4199 - accuracy: 0.8584 - val_loss: 0.5051 - val_accuracy: 0.8321\n",
            "Epoch 15/50\n",
            "1562/1562 [==============================] - 25s 16ms/step - loss: 0.3967 - accuracy: 0.8629 - val_loss: 0.4264 - val_accuracy: 0.8589\n",
            "Epoch 16/50\n",
            "1562/1562 [==============================] - 26s 17ms/step - loss: 0.3841 - accuracy: 0.8693 - val_loss: 0.4519 - val_accuracy: 0.8485\n",
            "Epoch 17/50\n",
            "1562/1562 [==============================] - 25s 16ms/step - loss: 0.3719 - accuracy: 0.8706 - val_loss: 0.4578 - val_accuracy: 0.8509\n",
            "Epoch 18/50\n",
            "1562/1562 [==============================] - 25s 16ms/step - loss: 0.3607 - accuracy: 0.8752 - val_loss: 0.4468 - val_accuracy: 0.8495\n",
            "Epoch 19/50\n",
            "1562/1562 [==============================] - 26s 16ms/step - loss: 0.3454 - accuracy: 0.8825 - val_loss: 0.4971 - val_accuracy: 0.8435\n",
            "Epoch 20/50\n",
            "1562/1562 [==============================] - 26s 16ms/step - loss: 0.3360 - accuracy: 0.8856 - val_loss: 0.4328 - val_accuracy: 0.8589\n",
            "Epoch 21/50\n",
            "1562/1562 [==============================] - 25s 16ms/step - loss: 0.3195 - accuracy: 0.8884 - val_loss: 0.4523 - val_accuracy: 0.8532\n",
            "Epoch 22/50\n",
            "1562/1562 [==============================] - 25s 16ms/step - loss: 0.3046 - accuracy: 0.8925 - val_loss: 0.4195 - val_accuracy: 0.8627\n",
            "Epoch 23/50\n",
            "1562/1562 [==============================] - 26s 16ms/step - loss: 0.3016 - accuracy: 0.8936 - val_loss: 0.4512 - val_accuracy: 0.8567\n",
            "Epoch 24/50\n",
            "1562/1562 [==============================] - 26s 16ms/step - loss: 0.2930 - accuracy: 0.8991 - val_loss: 0.4536 - val_accuracy: 0.8525\n",
            "Epoch 25/50\n",
            "1562/1562 [==============================] - 25s 16ms/step - loss: 0.2944 - accuracy: 0.8998 - val_loss: 0.4323 - val_accuracy: 0.8624\n",
            "Epoch 26/50\n",
            "1562/1562 [==============================] - 25s 16ms/step - loss: 0.2818 - accuracy: 0.9021 - val_loss: 0.4197 - val_accuracy: 0.8637\n",
            "Epoch 27/50\n",
            "1562/1562 [==============================] - 25s 16ms/step - loss: 0.2702 - accuracy: 0.9060 - val_loss: 0.4242 - val_accuracy: 0.8610\n",
            "Epoch 28/50\n",
            "1562/1562 [==============================] - 26s 16ms/step - loss: 0.2648 - accuracy: 0.9076 - val_loss: 0.4393 - val_accuracy: 0.8606\n",
            "Epoch 29/50\n",
            "1562/1562 [==============================] - 26s 16ms/step - loss: 0.2677 - accuracy: 0.9075 - val_loss: 0.3881 - val_accuracy: 0.8755\n",
            "Epoch 30/50\n",
            "1562/1562 [==============================] - 25s 16ms/step - loss: 0.2565 - accuracy: 0.9114 - val_loss: 0.3999 - val_accuracy: 0.8729\n",
            "Epoch 31/50\n",
            "1562/1562 [==============================] - 25s 16ms/step - loss: 0.2470 - accuracy: 0.9139 - val_loss: 0.3806 - val_accuracy: 0.8802\n",
            "Epoch 32/50\n",
            "1562/1562 [==============================] - 25s 16ms/step - loss: 0.2452 - accuracy: 0.9155 - val_loss: 0.4329 - val_accuracy: 0.8690\n",
            "Epoch 33/50\n",
            "1562/1562 [==============================] - 26s 16ms/step - loss: 0.2459 - accuracy: 0.9147 - val_loss: 0.3934 - val_accuracy: 0.8753\n",
            "Epoch 34/50\n",
            "1562/1562 [==============================] - 25s 16ms/step - loss: 0.2344 - accuracy: 0.9181 - val_loss: 0.4401 - val_accuracy: 0.8694\n",
            "Epoch 35/50\n",
            "1562/1562 [==============================] - 25s 16ms/step - loss: 0.2242 - accuracy: 0.9227 - val_loss: 0.3928 - val_accuracy: 0.8759\n",
            "Epoch 36/50\n",
            "1562/1562 [==============================] - 25s 16ms/step - loss: 0.2252 - accuracy: 0.9234 - val_loss: 0.3869 - val_accuracy: 0.8802\n",
            "Epoch 37/50\n",
            "1562/1562 [==============================] - 25s 16ms/step - loss: 0.2212 - accuracy: 0.9226 - val_loss: 0.4101 - val_accuracy: 0.8741\n",
            "Epoch 38/50\n",
            "1562/1562 [==============================] - 25s 16ms/step - loss: 0.2092 - accuracy: 0.9281 - val_loss: 0.3923 - val_accuracy: 0.8785\n",
            "Epoch 39/50\n",
            "1562/1562 [==============================] - 26s 16ms/step - loss: 0.2136 - accuracy: 0.9273 - val_loss: 0.3855 - val_accuracy: 0.8783\n",
            "Epoch 40/50\n",
            "1562/1562 [==============================] - 26s 16ms/step - loss: 0.2047 - accuracy: 0.9304 - val_loss: 0.3837 - val_accuracy: 0.8811\n",
            "Epoch 41/50\n",
            "1562/1562 [==============================] - 26s 17ms/step - loss: 0.2135 - accuracy: 0.9271 - val_loss: 0.3940 - val_accuracy: 0.8870\n",
            "Epoch 42/50\n",
            "1562/1562 [==============================] - 26s 16ms/step - loss: 0.2068 - accuracy: 0.9289 - val_loss: 0.3919 - val_accuracy: 0.8814\n",
            "Epoch 43/50\n",
            "1562/1562 [==============================] - 26s 16ms/step - loss: 0.2039 - accuracy: 0.9290 - val_loss: 0.3807 - val_accuracy: 0.8807\n",
            "Epoch 44/50\n",
            "1562/1562 [==============================] - 26s 16ms/step - loss: 0.1889 - accuracy: 0.9352 - val_loss: 0.4263 - val_accuracy: 0.8712\n",
            "Epoch 45/50\n",
            "1562/1562 [==============================] - 26s 17ms/step - loss: 0.2060 - accuracy: 0.9293 - val_loss: 0.4148 - val_accuracy: 0.8818\n",
            "Epoch 46/50\n",
            "1562/1562 [==============================] - 26s 16ms/step - loss: 0.1961 - accuracy: 0.9323 - val_loss: 0.3997 - val_accuracy: 0.8748\n",
            "Epoch 47/50\n",
            "1562/1562 [==============================] - 26s 16ms/step - loss: 0.1889 - accuracy: 0.9351 - val_loss: 0.3987 - val_accuracy: 0.8843\n",
            "Epoch 48/50\n",
            "1562/1562 [==============================] - 26s 16ms/step - loss: 0.1875 - accuracy: 0.9336 - val_loss: 0.3764 - val_accuracy: 0.8806\n",
            "Epoch 49/50\n",
            "1562/1562 [==============================] - 26s 17ms/step - loss: 0.1860 - accuracy: 0.9366 - val_loss: 0.4125 - val_accuracy: 0.8790\n",
            "Epoch 50/50\n",
            "1562/1562 [==============================] - 25s 16ms/step - loss: 0.1792 - accuracy: 0.9381 - val_loss: 0.4345 - val_accuracy: 0.8777\n"
          ],
          "name": "stdout"
        }
      ]
    },
    {
      "cell_type": "markdown",
      "metadata": {
        "id": "wi6XvXflkzuC"
      },
      "source": [
        "<h3> Plotting the results"
      ]
    },
    {
      "cell_type": "code",
      "metadata": {
        "id": "J1_26FCYkRBr",
        "colab": {
          "base_uri": "https://localhost:8080/",
          "height": 265
        },
        "outputId": "7626c8c7-8849-40fa-cab0-a6275204cfbe"
      },
      "source": [
        "plt.plot(r.history['loss'], label='Train data loss')\r\n",
        "plt.plot(r.history['val_loss'], label='Test data loss')\r\n",
        "plt.legend();"
      ],
      "execution_count": 8,
      "outputs": [
        {
          "output_type": "display_data",
          "data": {
            "image/png": "[encoded data removed]",
            "text/plain": [
              "<Figure size 432x288 with 1 Axes>"
            ]
          },
          "metadata": {
            "tags": [],
            "needs_background": "light"
          }
        }
      ]
    },
    {
      "cell_type": "code",
      "metadata": {
        "id": "fIymM-dgkmQy",
        "colab": {
          "base_uri": "https://localhost:8080/",
          "height": 265
        },
        "outputId": "7a5d845d-6dde-480a-eaa3-42f78f2e2d9f"
      },
      "source": [
        "plt.plot(r.history['accuracy'], label='Train data accuracy')\r\n",
        "plt.plot(r.history['val_accuracy'], label='Test data accuracy')\r\n",
        "plt.legend();"
      ],
      "execution_count": 9,
      "outputs": [
        {
          "output_type": "display_data",
          "data": {
            "image/png": "[encoded data removed]",
            "text/plain": [
              "<Figure size 432x288 with 1 Axes>"
            ]
          },
          "metadata": {
            "tags": [],
            "needs_background": "light"
          }
        }
      ]
    },
    {
      "cell_type": "code",
      "metadata": {
        "id": "gjHoTr0YkyId",
        "colab": {
          "base_uri": "https://localhost:8080/",
          "height": 329
        },
        "outputId": "edd4f5e1-6003-4612-b64a-813ad7143215"
      },
      "source": [
        "# Plotting confusion matrix\r\n",
        "from sklearn.metrics import confusion_matrix\r\n",
        "import itertools\r\n",
        "\r\n",
        "def plot_confusion_matrix(cm, classes,\r\n",
        "                          normalize=False,\r\n",
        "                          title='Confusion matrix',\r\n",
        "                          cmap=plt.cm.Blues):\r\n",
        "  \"\"\"\r\n",
        "  This function prints and plots the confusion matrix.\r\n",
        "  Normalization can be applied by setting `normalize=True`.\r\n",
        "  \"\"\"\r\n",
        "  if normalize:\r\n",
        "      cm = cm.astype('float') / cm.sum(axis=1)[:, np.newaxis]\r\n",
        "      print(\"Normalized confusion matrix\")\r\n",
        "  else:\r\n",
        "      print('Confusion matrix without normalization')\r\n",
        "\r\n",
        "  plt.imshow(cm, interpolation='nearest', cmap=cmap)\r\n",
        "  plt.title(title)\r\n",
        "  plt.colorbar()\r\n",
        "  tick_marks = np.arange(len(classes))\r\n",
        "  plt.xticks(tick_marks, classes, rotation=45)\r\n",
        "  plt.yticks(tick_marks, classes)\r\n",
        "\r\n",
        "  fmt = '.2f' if normalize else 'd'\r\n",
        "  thresh = cm.max() / 2.\r\n",
        "  for i, j in itertools.product(range(cm.shape[0]), range(cm.shape[1])):\r\n",
        "      plt.text(j, i, format(cm[i, j], fmt),\r\n",
        "               horizontalalignment=\"center\",\r\n",
        "               color=\"white\" if cm[i, j] > thresh else \"black\")\r\n",
        "\r\n",
        "  plt.tight_layout()\r\n",
        "  plt.ylabel('True label')\r\n",
        "  plt.xlabel('Predicted label')\r\n",
        "  plt.show()\r\n",
        "\r\n",
        "\r\n",
        "p_test = model.predict(x_test).argmax(axis=1)\r\n",
        "cm = confusion_matrix(y_test, p_test)\r\n",
        "plot_confusion_matrix(cm, list(range(10)))"
      ],
      "execution_count": 10,
      "outputs": [
        {
          "output_type": "stream",
          "text": [
            "Confusion matrix without normalization\n"
          ],
          "name": "stdout"
        },
        {
          "output_type": "display_data",
          "data": {
            "image/png": "[encoded data removed]",
            "text/plain": [
              "<Figure size 432x288 with 2 Axes>"
            ]
          },
          "metadata": {
            "tags": [],
            "needs_background": "light"
          }
        }
      ]
    },
    {
      "cell_type": "markdown",
      "metadata": {
        "id": "sKAbJe_Fns8T"
      },
      "source": [
        "<h3> Error analysis"
      ]
    },
    {
      "cell_type": "code",
      "metadata": {
        "id": "sr1nQMJGlJy5"
      },
      "source": [
        "# Correcting the labels\r\n",
        "labels = '''airplane\r\n",
        "automobile\r\n",
        "bird\r\n",
        "cat\r\n",
        "deer\r\n",
        "dog\r\n",
        "frog\r\n",
        "horse\r\n",
        "ship\r\n",
        "truck'''.split(\"\\n\")"
      ],
      "execution_count": 11,
      "outputs": []
    },
    {
      "cell_type": "code",
      "metadata": {
        "id": "EUBX8erzlas8",
        "colab": {
          "base_uri": "https://localhost:8080/",
          "height": 281
        },
        "outputId": "c5e5daac-b3a4-4aad-9b22-ae0ae622a239"
      },
      "source": [
        "# Plotting sample misclassified results\r\n",
        "misclassified_idx = np.where(p_test != y_test)[0]\r\n",
        "i = np.random.choice(misclassified_idx)\r\n",
        "plt.imshow(x_test[i], cmap='gray')\r\n",
        "plt.title(f\"True label: {labels[y_test[i]]} Predicted label: {labels[p_test[i]]}\");"
      ],
      "execution_count": 16,
      "outputs": [
        {
          "output_type": "display_data",
          "data": {
            "image/png": "[encoded data removed]",
            "text/plain": [
              "<Figure size 432x288 with 1 Axes>"
            ]
          },
          "metadata": {
            "tags": [],
            "needs_background": "light"
          }
        }
      ]
    }
  ]
}