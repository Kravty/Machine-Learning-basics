{
  "nbformat": 4,
  "nbformat_minor": 0,
  "metadata": {
    "colab": {
      "name": "TensorFlow Fashion MNIST.ipynb",
      "provenance": [],
      "authorship_tag": "ABX9TyPE1aYv1qyW3eqLP8UVmUXE",
      "include_colab_link": true
    },
    "kernelspec": {
      "name": "python3",
      "display_name": "Python 3"
    },
    "accelerator": "GPU"
  },
  "cells": [
    {
      "cell_type": "markdown",
      "metadata": {
        "id": "view-in-github",
        "colab_type": "text"
      },
      "source": [
        "<a href=\"https://colab.research.google.com/github/Kravty/MachineLearning/blob/main/TensorFlow_Fashion_MNIST.ipynb\" target=\"_parent\"><img src=\"https://colab.research.google.com/assets/colab-badge.svg\" alt=\"Open In Colab\"/></a>"
      ]
    },
    {
      "cell_type": "code",
      "metadata": {
        "id": "Fh1QcMn7cy9d"
      },
      "source": [
        "%tensorflow_version 2.x"
      ],
      "execution_count": null,
      "outputs": []
    },
    {
      "cell_type": "code",
      "metadata": {
        "id": "_39mGEtEc5UR"
      },
      "source": [
        "from tensorflow.keras.datasets import mnist\r\n",
        "from tensorflow.keras.models import Sequential\r\n",
        "from tensorflow.keras.layers import Dense, Dropout, Flatten\r\n",
        "from tensorflow.keras.layers import Conv2D, MaxPooling2D\r\n",
        "from tensorflow.keras import backend as K\r\n",
        "from tensorflow.keras.optimizers import Adam\r\n",
        "from matplotlib import pyplot as plt\r\n",
        "import numpy as np\r\n",
        "import random"
      ],
      "execution_count": null,
      "outputs": []
    },
    {
      "cell_type": "code",
      "metadata": {
        "id": "wV5araKnc7mx"
      },
      "source": [
        "img_rows, img_cols = 28, 28\r\n",
        "batch_size = 128\r\n",
        "num_classes = 10\r\n",
        "epochs = 30\r\n",
        "dropout = 0.75"
      ],
      "execution_count": null,
      "outputs": []
    },
    {
      "cell_type": "code",
      "metadata": {
        "colab": {
          "base_uri": "https://localhost:8080/"
        },
        "id": "z9MMOYD9c8gB",
        "outputId": "9a22c1b5-f2ed-4524-929d-38c3aed7235f"
      },
      "source": [
        "from tensorflow.keras.datasets import fashion_mnist\r\n",
        "(x_train, y_train), (x_test, y_test) = fashion_mnist.load_data()"
      ],
      "execution_count": null,
      "outputs": [
        {
          "output_type": "stream",
          "text": [
            "Downloading data from https://storage.googleapis.com/tensorflow/tf-keras-datasets/train-labels-idx1-ubyte.gz\n",
            "32768/29515 [=================================] - 0s 0us/step\n",
            "Downloading data from https://storage.googleapis.com/tensorflow/tf-keras-datasets/train-images-idx3-ubyte.gz\n",
            "26427392/26421880 [==============================] - 0s 0us/step\n",
            "Downloading data from https://storage.googleapis.com/tensorflow/tf-keras-datasets/t10k-labels-idx1-ubyte.gz\n",
            "8192/5148 [===============================================] - 0s 0us/step\n",
            "Downloading data from https://storage.googleapis.com/tensorflow/tf-keras-datasets/t10k-images-idx3-ubyte.gz\n",
            "4423680/4422102 [==============================] - 0s 0us/step\n"
          ],
          "name": "stdout"
        }
      ]
    },
    {
      "cell_type": "code",
      "metadata": {
        "colab": {
          "base_uri": "https://localhost:8080/",
          "height": 281
        },
        "id": "nu4FuXxOdBjh",
        "outputId": "d88ff807-9531-44f2-dc60-4c8a441683da"
      },
      "source": [
        "# Save of original test images for display purposes\r\n",
        "orig_test = x_test\r\n",
        "\r\n",
        "index = random.randrange(1000)\r\n",
        "plt.imshow(orig_test[index], cmap='gray')\r\n",
        "plt.title(f'Label: {y_test[index]}')\r\n",
        "plt.show()"
      ],
      "execution_count": null,
      "outputs": [
        {
          "output_type": "display_data",
          "data": {
            "image/png": "[encoded data removed]",
            "text/plain": [
              "<Figure size 432x288 with 1 Axes>"
            ]
          },
          "metadata": {
            "tags": [],
            "needs_background": "light"
          }
        }
      ]
    },
    {
      "cell_type": "code",
      "metadata": {
        "colab": {
          "base_uri": "https://localhost:8080/"
        },
        "id": "BtBZOBZMdC4y",
        "outputId": "f8b2432d-f5c2-41e5-dd3b-00a58126fb82"
      },
      "source": [
        "if K.image_data_format() == 'channels_first':\r\n",
        "    x_train = x_train.reshape(x_train.shape[0], 1, img_rows, img_cols)\r\n",
        "    x_test = x_test.reshape(x_test.shape[0], 1, img_rows, img_cols)\r\n",
        "    input_shape = (1, img_rows, img_cols)\r\n",
        "else:\r\n",
        "    x_train = x_train.reshape(x_train.shape[0], img_rows, img_cols, 1)\r\n",
        "    x_test = x_test.reshape(x_test.shape[0], img_rows, img_cols, 1)\r\n",
        "    input_shape = (img_rows, img_cols, 1)\r\n",
        "    \r\n",
        "x_train, x_test = x_train / 255.0, x_test / 255.0\r\n",
        "\r\n",
        "print(x_train.shape[0], 'train samples')\r\n",
        "print(x_test.shape[0], 'test samples')"
      ],
      "execution_count": null,
      "outputs": [
        {
          "output_type": "stream",
          "text": [
            "60000 train samples\n",
            "10000 test samples\n"
          ],
          "name": "stdout"
        }
      ]
    },
    {
      "cell_type": "code",
      "metadata": {
        "colab": {
          "base_uri": "https://localhost:8080/"
        },
        "id": "1rdMuZFQdEhS",
        "outputId": "f871dc36-efcb-4925-92e7-81b8e65c302f"
      },
      "source": [
        "model = Sequential()\r\n",
        "model.add(Conv2D(32, kernel_size=(3, 3), activation='relu', input_shape=input_shape))\r\n",
        "model.add(Conv2D(64, (3, 3), activation='relu'))\r\n",
        "model.add(MaxPooling2D(pool_size=(2, 2)))\r\n",
        "model.add(Dropout(dropout/2))\r\n",
        "model.add(Flatten())\r\n",
        "model.add(Dense(128, activation='relu'))\r\n",
        "model.add(Dropout(dropout))\r\n",
        "model.add(Dense(num_classes, activation='softmax'))\r\n",
        "\r\n",
        "model.summary()"
      ],
      "execution_count": null,
      "outputs": [
        {
          "output_type": "stream",
          "text": [
            "Model: \"sequential\"\n",
            "_________________________________________________________________\n",
            "Layer (type)                 Output Shape              Param #   \n",
            "=================================================================\n",
            "conv2d (Conv2D)              (None, 26, 26, 32)        320       \n",
            "_________________________________________________________________\n",
            "conv2d_1 (Conv2D)            (None, 24, 24, 64)        18496     \n",
            "_________________________________________________________________\n",
            "max_pooling2d (MaxPooling2D) (None, 12, 12, 64)        0         \n",
            "_________________________________________________________________\n",
            "dropout (Dropout)            (None, 12, 12, 64)        0         \n",
            "_________________________________________________________________\n",
            "flatten (Flatten)            (None, 9216)              0         \n",
            "_________________________________________________________________\n",
            "dense (Dense)                (None, 128)               1179776   \n",
            "_________________________________________________________________\n",
            "dropout_1 (Dropout)          (None, 128)               0         \n",
            "_________________________________________________________________\n",
            "dense_1 (Dense)              (None, 10)                1290      \n",
            "=================================================================\n",
            "Total params: 1,199,882\n",
            "Trainable params: 1,199,882\n",
            "Non-trainable params: 0\n",
            "_________________________________________________________________\n"
          ],
          "name": "stdout"
        }
      ]
    },
    {
      "cell_type": "code",
      "metadata": {
        "colab": {
          "base_uri": "https://localhost:8080/",
          "height": 1000
        },
        "id": "E_Az3qG1dF2Z",
        "outputId": "dbc20000-7844-4228-d6cc-69b39edc6abd"
      },
      "source": [
        "model.compile(loss='sparse_categorical_crossentropy', optimizer=Adam(), metrics=['accuracy'])\r\n",
        "\r\n",
        "# Train model for a given number of epochs\r\n",
        "history = model.fit(x_train, y_train, batch_size=batch_size, epochs=epochs, verbose=1, validation_data=(x_test, y_test))\r\n",
        "\r\n",
        "# Evaluate model against test data\r\n",
        "score = model.evaluate(x_test, y_test, verbose=0)\r\n",
        "print('Test loss:', score[0])\r\n",
        "print('Test accuracy:', score[1])\r\n",
        "\r\n",
        "# summarize history for accuracy\r\n",
        "plt.plot(history.history['accuracy'])\r\n",
        "plt.plot(history.history['val_accuracy'])\r\n",
        "plt.title('Model accuracy')\r\n",
        "plt.ylabel('Accuracy')\r\n",
        "plt.xlabel('Epoch')\r\n",
        "plt.legend(['Train', 'Test'], loc='upper left')\r\n",
        "plt.show()"
      ],
      "execution_count": null,
      "outputs": [
        {
          "output_type": "stream",
          "text": [
            "Epoch 1/30\n",
            "469/469 [==============================] - 4s 8ms/step - loss: 0.7138 - accuracy: 0.7483 - val_loss: 0.3826 - val_accuracy: 0.8600\n",
            "Epoch 2/30\n",
            "469/469 [==============================] - 3s 7ms/step - loss: 0.4840 - accuracy: 0.8304 - val_loss: 0.3269 - val_accuracy: 0.8812\n",
            "Epoch 3/30\n",
            "469/469 [==============================] - 3s 7ms/step - loss: 0.4251 - accuracy: 0.8496 - val_loss: 0.3077 - val_accuracy: 0.8894\n",
            "Epoch 4/30\n",
            "469/469 [==============================] - 3s 7ms/step - loss: 0.3888 - accuracy: 0.8616 - val_loss: 0.2737 - val_accuracy: 0.9018\n",
            "Epoch 5/30\n",
            "469/469 [==============================] - 3s 7ms/step - loss: 0.3583 - accuracy: 0.8714 - val_loss: 0.2618 - val_accuracy: 0.9063\n",
            "Epoch 6/30\n",
            "469/469 [==============================] - 3s 7ms/step - loss: 0.3368 - accuracy: 0.8783 - val_loss: 0.2549 - val_accuracy: 0.9058\n",
            "Epoch 7/30\n",
            "469/469 [==============================] - 4s 7ms/step - loss: 0.3199 - accuracy: 0.8834 - val_loss: 0.2510 - val_accuracy: 0.9097\n",
            "Epoch 8/30\n",
            "469/469 [==============================] - 4s 8ms/step - loss: 0.3118 - accuracy: 0.8879 - val_loss: 0.2422 - val_accuracy: 0.9141\n",
            "Epoch 9/30\n",
            "469/469 [==============================] - 4s 8ms/step - loss: 0.2952 - accuracy: 0.8928 - val_loss: 0.2387 - val_accuracy: 0.9133\n",
            "Epoch 10/30\n",
            "469/469 [==============================] - 4s 8ms/step - loss: 0.2859 - accuracy: 0.8969 - val_loss: 0.2269 - val_accuracy: 0.9188\n",
            "Epoch 11/30\n",
            "469/469 [==============================] - 4s 8ms/step - loss: 0.2783 - accuracy: 0.8997 - val_loss: 0.2395 - val_accuracy: 0.9110\n",
            "Epoch 12/30\n",
            "469/469 [==============================] - 4s 8ms/step - loss: 0.2699 - accuracy: 0.9026 - val_loss: 0.2279 - val_accuracy: 0.9177\n",
            "Epoch 13/30\n",
            "469/469 [==============================] - 4s 8ms/step - loss: 0.2602 - accuracy: 0.9046 - val_loss: 0.2225 - val_accuracy: 0.9193\n",
            "Epoch 14/30\n",
            "469/469 [==============================] - 4s 8ms/step - loss: 0.2528 - accuracy: 0.9066 - val_loss: 0.2178 - val_accuracy: 0.9249\n",
            "Epoch 15/30\n",
            "469/469 [==============================] - 3s 7ms/step - loss: 0.2476 - accuracy: 0.9079 - val_loss: 0.2166 - val_accuracy: 0.9208\n",
            "Epoch 16/30\n",
            "469/469 [==============================] - 4s 7ms/step - loss: 0.2428 - accuracy: 0.9104 - val_loss: 0.2201 - val_accuracy: 0.9212\n",
            "Epoch 17/30\n",
            "469/469 [==============================] - 3s 7ms/step - loss: 0.2364 - accuracy: 0.9132 - val_loss: 0.2253 - val_accuracy: 0.9230\n",
            "Epoch 18/30\n",
            "469/469 [==============================] - 3s 7ms/step - loss: 0.2310 - accuracy: 0.9150 - val_loss: 0.2184 - val_accuracy: 0.9230\n",
            "Epoch 19/30\n",
            "469/469 [==============================] - 3s 7ms/step - loss: 0.2265 - accuracy: 0.9151 - val_loss: 0.2149 - val_accuracy: 0.9251\n",
            "Epoch 20/30\n",
            "469/469 [==============================] - 3s 7ms/step - loss: 0.2223 - accuracy: 0.9163 - val_loss: 0.2186 - val_accuracy: 0.9244\n",
            "Epoch 21/30\n",
            "469/469 [==============================] - 3s 7ms/step - loss: 0.2173 - accuracy: 0.9175 - val_loss: 0.2104 - val_accuracy: 0.9244\n",
            "Epoch 22/30\n",
            "469/469 [==============================] - 3s 7ms/step - loss: 0.2153 - accuracy: 0.9205 - val_loss: 0.2131 - val_accuracy: 0.9234\n",
            "Epoch 23/30\n",
            "469/469 [==============================] - 3s 7ms/step - loss: 0.2108 - accuracy: 0.9212 - val_loss: 0.2150 - val_accuracy: 0.9249\n",
            "Epoch 24/30\n",
            "469/469 [==============================] - 3s 7ms/step - loss: 0.2048 - accuracy: 0.9234 - val_loss: 0.2210 - val_accuracy: 0.9266\n",
            "Epoch 25/30\n",
            "469/469 [==============================] - 3s 7ms/step - loss: 0.2067 - accuracy: 0.9212 - val_loss: 0.2133 - val_accuracy: 0.9252\n",
            "Epoch 26/30\n",
            "469/469 [==============================] - 3s 7ms/step - loss: 0.2011 - accuracy: 0.9242 - val_loss: 0.2089 - val_accuracy: 0.9272\n",
            "Epoch 27/30\n",
            "469/469 [==============================] - 3s 7ms/step - loss: 0.2012 - accuracy: 0.9242 - val_loss: 0.2153 - val_accuracy: 0.9266\n",
            "Epoch 28/30\n",
            "469/469 [==============================] - 3s 7ms/step - loss: 0.1942 - accuracy: 0.9270 - val_loss: 0.2194 - val_accuracy: 0.9273\n",
            "Epoch 29/30\n",
            "469/469 [==============================] - 3s 7ms/step - loss: 0.1930 - accuracy: 0.9262 - val_loss: 0.2199 - val_accuracy: 0.9238\n",
            "Epoch 30/30\n",
            "469/469 [==============================] - 4s 8ms/step - loss: 0.1916 - accuracy: 0.9266 - val_loss: 0.2145 - val_accuracy: 0.9278\n",
            "Test loss: 0.21453078091144562\n",
            "Test accuracy: 0.9277999997138977\n"
          ],
          "name": "stdout"
        },
        {
          "output_type": "display_data",
          "data": {
            "image/png": "[encoded data removed]",
            "text/plain": [
              "<Figure size 432x288 with 1 Axes>"
            ]
          },
          "metadata": {
            "tags": [],
            "needs_background": "light"
          }
        }
      ]
    },
    {
      "cell_type": "code",
      "metadata": {
        "id": "xoNP65TLdH65"
      },
      "source": [
        "predictions = model.predict(x_test)\r\n",
        "most_likely = predictions.argmax(1)"
      ],
      "execution_count": null,
      "outputs": []
    },
    {
      "cell_type": "code",
      "metadata": {
        "colab": {
          "base_uri": "https://localhost:8080/",
          "height": 281
        },
        "id": "5eUZ7BcKdJcB",
        "outputId": "cea1ce53-fcb9-41ba-f8c1-cb04bda1537b"
      },
      "source": [
        "index = random.randrange(10000)\r\n",
        "plt.title(f'Prediction: {most_likely[index]}, label: {y_test[index]}')\r\n",
        "plt.imshow(orig_test[index], cmap='gray')\r\n",
        "plt.show()"
      ],
      "execution_count": null,
      "outputs": [
        {
          "output_type": "display_data",
          "data": {
            "image/png": "[encoded data removed]",
            "text/plain": [
              "<Figure size 432x288 with 1 Axes>"
            ]
          },
          "metadata": {
            "tags": [],
            "needs_background": "light"
          }
        }
      ]
    },
    {
      "cell_type": "markdown",
      "metadata": {
        "id": "rbfxuhQbdL0M"
      },
      "source": [
        "Description of labels:\r\n",
        "*   0 T-shirt/top\r\n",
        "*   1 Trouser\r\n",
        "*   2 Pullover\r\n",
        "*   3 Dress\r\n",
        "*   4 Coat\r\n",
        "*   5 Sandal\r\n",
        "*   6 Shirt\r\n",
        "*   7 Sneaker\r\n",
        "*   8 Bag\r\n",
        "*   9 Ankle boot"
      ]
    },
    {
      "cell_type": "code",
      "metadata": {
        "colab": {
          "base_uri": "https://localhost:8080/",
          "height": 545
        },
        "id": "UbA70zg9dKnZ",
        "outputId": "ee218dc5-2f2d-4699-f42e-ab079e6b7184"
      },
      "source": [
        "for i in range(10000):\r\n",
        "    index = random.randrange(10000)\r\n",
        "    if most_likely[index] != y_test[index]:\r\n",
        "        break\r\n",
        "\r\n",
        "plt.imshow(orig_test[index], cmap='gray')\r\n",
        "plt.title(f'Prediction: {most_likely[index]}, label: {y_test[index]}')\r\n",
        "plt.show()\r\n",
        "\r\n",
        "plt.bar(range(10), predictions[index], tick_label=range(10))\r\n",
        "plt.title('Prediction values')\r\n",
        "plt.show()"
      ],
      "execution_count": null,
      "outputs": [
        {
          "output_type": "display_data",
          "data": {
            "image/png": "[encoded data removed]",
            "text/plain": [
              "<Figure size 432x288 with 1 Axes>"
            ]
          },
          "metadata": {
            "tags": [],
            "needs_background": "light"
          }
        },
        {
          "output_type": "display_data",
          "data": {
            "image/png": "[encoded data removed]",
            "text/plain": [
              "<Figure size 432x288 with 1 Axes>"
            ]
          },
          "metadata": {
            "tags": [],
            "needs_background": "light"
          }
        }
      ]
    }
  ]
}